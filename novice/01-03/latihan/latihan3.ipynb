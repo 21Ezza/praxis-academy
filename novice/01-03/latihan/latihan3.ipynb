{
  "nbformat": 4,
  "nbformat_minor": 0,
  "metadata": {
    "colab": {
      "name": "latihan3.ipynb",
      "provenance": []
    },
    "kernelspec": {
      "name": "python3",
      "display_name": "Python 3"
    }
  },
  "cells": [
    {
      "cell_type": "code",
      "metadata": {
        "id": "JCdxowH5y2jF",
        "colab_type": "code",
        "colab": {
          "base_uri": "https://localhost:8080/",
          "height": 52
        },
        "outputId": "0f1e6702-cf74-4175-b459-49ecd69883fa"
      },
      "source": [
        "class Animal:\n",
        "    def __init__(self, name):    # Constructor of the class\n",
        "        self.name = name\n",
        "\n",
        "    def speak(self):              # Abstract method, defined by convention only\n",
        "        raise NotImplementedError(\"Subclass must implement abstract method\")\n",
        "\n",
        "\n",
        "class Dog(Animal):\n",
        "    def speak(self):\n",
        "        return self.name+' says Woof!'\n",
        "    \n",
        "class Cat(Animal):\n",
        "    def speak(self):\n",
        "        return self.name+' says Meow!'\n",
        "    \n",
        "fido = Dog('Fido')\n",
        "isis = Cat('Isis')\n",
        "\n",
        "print(fido.speak())\n",
        "print(isis.speak())"
      ],
      "execution_count": 1,
      "outputs": [
        {
          "output_type": "stream",
          "text": [
            "Fido says Woof!\n",
            "Isis says Meow!\n"
          ],
          "name": "stdout"
        }
      ]
    },
    {
      "cell_type": "code",
      "metadata": {
        "id": "DOUIL-zcy7Qm",
        "colab_type": "code",
        "colab": {
          "base_uri": "https://localhost:8080/",
          "height": 69
        },
        "outputId": "d13f8434-6a0d-48d3-ba57-077d57302f40"
      },
      "source": [
        "class Animal:\n",
        "    def __init__(self,name,legs):\n",
        "        self.name = name\n",
        "        self.legs = legs\n",
        "\n",
        "class Bear(Animal):\n",
        "    def __init__(self,name,legs=4,hibernate='yes'):\n",
        "        self.name = name\n",
        "        self.legs = legs\n",
        "        self.hibernate = hibernate\n",
        "\n",
        "class Animal:\n",
        "    def __init__(self,name,legs):\n",
        "        self.name = name\n",
        "        self.legs = legs\n",
        "\n",
        "class Bear(Animal):\n",
        "    def __init__(self,name,legs=4,hibernate='yes'):\n",
        "        Animal.__init__(self,name,legs)\n",
        "        self.hibernate = hibernate\n",
        "        \n",
        "yogi = Bear('Yogi')\n",
        "print(yogi.name)\n",
        "print(yogi.legs)\n",
        "print(yogi.hibernate)"
      ],
      "execution_count": 4,
      "outputs": [
        {
          "output_type": "stream",
          "text": [
            "Yogi\n",
            "4\n",
            "yes\n"
          ],
          "name": "stdout"
        }
      ]
    },
    {
      "cell_type": "code",
      "metadata": {
        "id": "LbviAzgFzEgF",
        "colab_type": "code",
        "colab": {
          "base_uri": "https://localhost:8080/",
          "height": 52
        },
        "outputId": "e83b3b84-90e4-4a9d-8b30-56a528dfec56"
      },
      "source": [
        "class Car:\n",
        "    def __init__(self,wheels=4):\n",
        "        self.wheels = wheels\n",
        "        # We'll say that all cars, no matter their engine, have four wheels by default.\n",
        "\n",
        "class Gasoline(Car):\n",
        "    def __init__(self,engine='Gasoline',tank_cap=20):\n",
        "        Car.__init__(self)\n",
        "        self.engine = engine\n",
        "        self.tank_cap = tank_cap # represents fuel tank capacity in gallons\n",
        "        self.tank = 0\n",
        "        \n",
        "    def refuel(self):\n",
        "        self.tank = self.tank_cap\n",
        "        \n",
        "    \n",
        "class Electric(Car):\n",
        "    def __init__(self,engine='Electric',kWh_cap=60):\n",
        "        Car.__init__(self)\n",
        "        self.engine = engine\n",
        "        self.kWh_cap = kWh_cap # represents battery capacity in kilowatt-hours\n",
        "        self.kWh = 0\n",
        "    \n",
        "    def recharge(self):\n",
        "        self.kWh = self.kWh_cap\n",
        "class Hybrid(Gasoline, Electric):\n",
        "    def __init__(self,engine='Hybrid',tank_cap=11,kWh_cap=5):\n",
        "        Gasoline.__init__(self,engine,tank_cap)\n",
        "        Electric.__init__(self,engine,kWh_cap)\n",
        "        \n",
        "        \n",
        "prius = Hybrid()\n",
        "print(prius.tank)\n",
        "print(prius.kWh)"
      ],
      "execution_count": 6,
      "outputs": [
        {
          "output_type": "stream",
          "text": [
            "0\n",
            "0\n"
          ],
          "name": "stdout"
        }
      ]
    },
    {
      "cell_type": "code",
      "metadata": {
        "id": "agRQqHHMzJ8Q",
        "colab_type": "code",
        "colab": {
          "base_uri": "https://localhost:8080/",
          "height": 34
        },
        "outputId": "49cd4c40-a185-4f1a-d99f-d4667dcc9f5e"
      },
      "source": [
        "prius.recharge()\n",
        "print(prius.kWh)"
      ],
      "execution_count": 7,
      "outputs": [
        {
          "output_type": "stream",
          "text": [
            "5\n"
          ],
          "name": "stdout"
        }
      ]
    },
    {
      "cell_type": "code",
      "metadata": {
        "id": "i-JIYla9zLn2",
        "colab_type": "code",
        "colab": {
          "base_uri": "https://localhost:8080/",
          "height": 34
        },
        "outputId": "9910996e-15ff-41c1-f2cc-75c3b18de304"
      },
      "source": [
        "\n",
        "\n",
        "class A:\n",
        "    num = 4\n",
        "    \n",
        "class B(A):\n",
        "    pass\n",
        "\n",
        "class C(A):\n",
        "    num = 5\n",
        "    \n",
        "class D(B,C):\n",
        "    pass\n",
        "\n",
        "D.num"
      ],
      "execution_count": 8,
      "outputs": [
        {
          "output_type": "execute_result",
          "data": {
            "text/plain": [
              "5"
            ]
          },
          "metadata": {
            "tags": []
          },
          "execution_count": 8
        }
      ]
    },
    {
      "cell_type": "code",
      "metadata": {
        "id": "vI9TINzHzPRO",
        "colab_type": "code",
        "colab": {
          "base_uri": "https://localhost:8080/",
          "height": 34
        },
        "outputId": "ea5c4362-7930-45b1-be33-191775ffe7b7"
      },
      "source": [
        "class MyBaseClass:\n",
        "    def __init__(self,x,y):\n",
        "        self.x = x\n",
        "        self.y = y\n",
        "    \n",
        "class MyDerivedClass(MyBaseClass):\n",
        "    def __init__(self,x,y,z):\n",
        "        super().__init__(x,y)\n",
        "        self.z = z\n",
        "class A:\n",
        "    def truth(self):\n",
        "        return 'All numbers are even'\n",
        "    \n",
        "class B(A):\n",
        "    pass\n",
        "\n",
        "class C(A):\n",
        "    def truth(self):\n",
        "        return 'Some numbers are even'\n",
        "\n",
        "class D(B,C):\n",
        "    def truth(self,num):\n",
        "        if num%2 == 0:\n",
        "            return A.truth(self)\n",
        "        else:\n",
        "            return super().truth()\n",
        "            \n",
        "d = D()\n",
        "d.truth(6)"
      ],
      "execution_count": 10,
      "outputs": [
        {
          "output_type": "execute_result",
          "data": {
            "text/plain": [
              "'All numbers are even'"
            ]
          },
          "metadata": {
            "tags": []
          },
          "execution_count": 10
        }
      ]
    },
    {
      "cell_type": "code",
      "metadata": {
        "id": "gAWjer5uzZfz",
        "colab_type": "code",
        "colab": {
          "base_uri": "https://localhost:8080/",
          "height": 34
        },
        "outputId": "8a63a7b2-e2bb-4ad9-9155-6185afadd7db"
      },
      "source": [
        "d.truth(5)"
      ],
      "execution_count": 11,
      "outputs": [
        {
          "output_type": "execute_result",
          "data": {
            "text/plain": [
              "'Some numbers are even'"
            ]
          },
          "metadata": {
            "tags": []
          },
          "execution_count": 11
        }
      ]
    }
  ]
}