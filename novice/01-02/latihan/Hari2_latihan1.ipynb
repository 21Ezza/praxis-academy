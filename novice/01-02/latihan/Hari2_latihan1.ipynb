{
  "nbformat": 4,
  "nbformat_minor": 0,
  "metadata": {
    "colab": {
      "name": "Hari2-latihan1.ipynb",
      "provenance": [],
      "collapsed_sections": []
    },
    "kernelspec": {
      "name": "python3",
      "display_name": "Python 3"
    }
  },
  "cells": [
    {
      "cell_type": "code",
      "metadata": {
        "id": "PunK09pnUh67",
        "colab_type": "code",
        "colab": {
          "base_uri": "https://localhost:8080/",
          "height": 34
        },
        "outputId": "a1376286-1ec3-4007-a226-5742d9d5ed4e"
      },
      "source": [
        "fruits = ['orange', 'apple', 'pear', 'banana', 'kiwi', 'apple', 'banana']\n",
        "fruits.count('apple')"
      ],
      "execution_count": 1,
      "outputs": [
        {
          "output_type": "execute_result",
          "data": {
            "text/plain": [
              "2"
            ]
          },
          "metadata": {
            "tags": []
          },
          "execution_count": 1
        }
      ]
    },
    {
      "cell_type": "code",
      "metadata": {
        "id": "VjUg7XYWdLGd",
        "colab_type": "code",
        "colab": {
          "base_uri": "https://localhost:8080/",
          "height": 34
        },
        "outputId": "da95176e-b459-48f8-db2e-f1eba54aed43"
      },
      "source": [
        "fruits.count('tangerine')\n"
      ],
      "execution_count": 2,
      "outputs": [
        {
          "output_type": "execute_result",
          "data": {
            "text/plain": [
              "0"
            ]
          },
          "metadata": {
            "tags": []
          },
          "execution_count": 2
        }
      ]
    },
    {
      "cell_type": "code",
      "metadata": {
        "id": "iI5rUOVndQ_0",
        "colab_type": "code",
        "colab": {
          "base_uri": "https://localhost:8080/",
          "height": 34
        },
        "outputId": "6692bfce-3285-485b-c65b-4505c3b982f0"
      },
      "source": [
        "fruits.index('banana')"
      ],
      "execution_count": 3,
      "outputs": [
        {
          "output_type": "execute_result",
          "data": {
            "text/plain": [
              "3"
            ]
          },
          "metadata": {
            "tags": []
          },
          "execution_count": 3
        }
      ]
    },
    {
      "cell_type": "code",
      "metadata": {
        "id": "3h7OJLcadULE",
        "colab_type": "code",
        "colab": {
          "base_uri": "https://localhost:8080/",
          "height": 34
        },
        "outputId": "0ee62fba-46b5-4f6d-bc82-027e1cf6198f"
      },
      "source": [
        "fruits.index('banana', 4)  # Find next banana starting a position 4"
      ],
      "execution_count": 4,
      "outputs": [
        {
          "output_type": "execute_result",
          "data": {
            "text/plain": [
              "6"
            ]
          },
          "metadata": {
            "tags": []
          },
          "execution_count": 4
        }
      ]
    },
    {
      "cell_type": "code",
      "metadata": {
        "id": "XolCnR1BdUdG",
        "colab_type": "code",
        "colab": {
          "base_uri": "https://localhost:8080/",
          "height": 34
        },
        "outputId": "2225c140-9971-4ba8-f9d5-add8f9fa283a"
      },
      "source": [
        "fruits.reverse()\n",
        "fruits"
      ],
      "execution_count": 7,
      "outputs": [
        {
          "output_type": "execute_result",
          "data": {
            "text/plain": [
              "['banana', 'apple', 'kiwi', 'banana', 'pear', 'apple', 'orange']"
            ]
          },
          "metadata": {
            "tags": []
          },
          "execution_count": 7
        }
      ]
    },
    {
      "cell_type": "code",
      "metadata": {
        "id": "zHzd2o9rd9Rk",
        "colab_type": "code",
        "colab": {
          "base_uri": "https://localhost:8080/",
          "height": 191
        },
        "outputId": "8c059861-4647-42a6-83e4-6d60891d4dd4"
      },
      "source": [
        "fruits.append('grape')\n",
        "fruits"
      ],
      "execution_count": 10,
      "outputs": [
        {
          "output_type": "execute_result",
          "data": {
            "text/plain": [
              "['banana',\n",
              " 'apple',\n",
              " 'kiwi',\n",
              " 'banana',\n",
              " 'pear',\n",
              " 'apple',\n",
              " 'orange',\n",
              " 'grape',\n",
              " 'grape',\n",
              " 'grape']"
            ]
          },
          "metadata": {
            "tags": []
          },
          "execution_count": 10
        }
      ]
    },
    {
      "cell_type": "code",
      "metadata": {
        "id": "z26U04AxeNPy",
        "colab_type": "code",
        "colab": {
          "base_uri": "https://localhost:8080/",
          "height": 191
        },
        "outputId": "d97362f6-2d60-4bbd-cc9a-f7413a298b39"
      },
      "source": [
        "fruits.sort()\n",
        "fruits"
      ],
      "execution_count": 11,
      "outputs": [
        {
          "output_type": "execute_result",
          "data": {
            "text/plain": [
              "['apple',\n",
              " 'apple',\n",
              " 'banana',\n",
              " 'banana',\n",
              " 'grape',\n",
              " 'grape',\n",
              " 'grape',\n",
              " 'kiwi',\n",
              " 'orange',\n",
              " 'pear']"
            ]
          },
          "metadata": {
            "tags": []
          },
          "execution_count": 11
        }
      ]
    },
    {
      "cell_type": "code",
      "metadata": {
        "id": "hy3BvWqfeRrR",
        "colab_type": "code",
        "colab": {
          "base_uri": "https://localhost:8080/",
          "height": 34
        },
        "outputId": "7652c328-6bb9-472a-dc88-97c953b970aa"
      },
      "source": [
        "fruits.pop()"
      ],
      "execution_count": 12,
      "outputs": [
        {
          "output_type": "execute_result",
          "data": {
            "text/plain": [
              "'pear'"
            ]
          },
          "metadata": {
            "tags": []
          },
          "execution_count": 12
        }
      ]
    },
    {
      "cell_type": "code",
      "metadata": {
        "id": "Ajw0EqSxekcS",
        "colab_type": "code",
        "colab": {
          "base_uri": "https://localhost:8080/",
          "height": 34
        },
        "outputId": "0a83c628-4ebb-483f-a9e6-4d8fff3fe466"
      },
      "source": [
        "stack = [3, 4, 5]\n",
        "stack.append(6)\n",
        "stack.append(7)\n",
        "stack"
      ],
      "execution_count": 13,
      "outputs": [
        {
          "output_type": "execute_result",
          "data": {
            "text/plain": [
              "[3, 4, 5, 6, 7]"
            ]
          },
          "metadata": {
            "tags": []
          },
          "execution_count": 13
        }
      ]
    },
    {
      "cell_type": "code",
      "metadata": {
        "id": "VjolUJFhezDp",
        "colab_type": "code",
        "colab": {
          "base_uri": "https://localhost:8080/",
          "height": 34
        },
        "outputId": "40f4e921-aa50-4ce0-8551-f035fefc0c9e"
      },
      "source": [
        "stack.pop()"
      ],
      "execution_count": 14,
      "outputs": [
        {
          "output_type": "execute_result",
          "data": {
            "text/plain": [
              "7"
            ]
          },
          "metadata": {
            "tags": []
          },
          "execution_count": 14
        }
      ]
    },
    {
      "cell_type": "code",
      "metadata": {
        "id": "FZKq69xXez7N",
        "colab_type": "code",
        "colab": {
          "base_uri": "https://localhost:8080/",
          "height": 34
        },
        "outputId": "ed27110a-2669-4812-d67b-e729625e5cdb"
      },
      "source": [
        "stack"
      ],
      "execution_count": 15,
      "outputs": [
        {
          "output_type": "execute_result",
          "data": {
            "text/plain": [
              "[3, 4, 5, 6]"
            ]
          },
          "metadata": {
            "tags": []
          },
          "execution_count": 15
        }
      ]
    },
    {
      "cell_type": "code",
      "metadata": {
        "id": "nHO_qRSKe33Y",
        "colab_type": "code",
        "colab": {
          "base_uri": "https://localhost:8080/",
          "height": 34
        },
        "outputId": "41f73303-af7b-4b3f-87f1-af72bc22dcb6"
      },
      "source": [
        "stack.pop()"
      ],
      "execution_count": 16,
      "outputs": [
        {
          "output_type": "execute_result",
          "data": {
            "text/plain": [
              "6"
            ]
          },
          "metadata": {
            "tags": []
          },
          "execution_count": 16
        }
      ]
    },
    {
      "cell_type": "code",
      "metadata": {
        "id": "xjmluT1Ze5hx",
        "colab_type": "code",
        "colab": {
          "base_uri": "https://localhost:8080/",
          "height": 34
        },
        "outputId": "0bf5baf1-0bc0-46e6-b290-9ea5aa0c0013"
      },
      "source": [
        "stack.pop()"
      ],
      "execution_count": 17,
      "outputs": [
        {
          "output_type": "execute_result",
          "data": {
            "text/plain": [
              "5"
            ]
          },
          "metadata": {
            "tags": []
          },
          "execution_count": 17
        }
      ]
    },
    {
      "cell_type": "code",
      "metadata": {
        "id": "GzOYxyFke6zB",
        "colab_type": "code",
        "colab": {
          "base_uri": "https://localhost:8080/",
          "height": 34
        },
        "outputId": "c99c30d4-7da4-4b22-ef28-0541d413bba8"
      },
      "source": [
        "stack"
      ],
      "execution_count": 18,
      "outputs": [
        {
          "output_type": "execute_result",
          "data": {
            "text/plain": [
              "[3, 4]"
            ]
          },
          "metadata": {
            "tags": []
          },
          "execution_count": 18
        }
      ]
    },
    {
      "cell_type": "code",
      "metadata": {
        "id": "TmRyfj6pfKWf",
        "colab_type": "code",
        "colab": {
          "base_uri": "https://localhost:8080/",
          "height": 34
        },
        "outputId": "26543726-2960-4899-814e-1d7c824cd08c"
      },
      "source": [
        "from collections import deque\n",
        "queue = deque([\"Eric\", \"John\", \"Michael\"])\n",
        "queue.append(\"Terry\")           # Terry arrives\n",
        "queue.append(\"Graham\")          # Graham arrives\n",
        "queue.popleft()                 # The first to arrive now leaves"
      ],
      "execution_count": 19,
      "outputs": [
        {
          "output_type": "execute_result",
          "data": {
            "text/plain": [
              "'Eric'"
            ]
          },
          "metadata": {
            "tags": []
          },
          "execution_count": 19
        }
      ]
    },
    {
      "cell_type": "code",
      "metadata": {
        "id": "A-CMXAwcfimy",
        "colab_type": "code",
        "colab": {
          "base_uri": "https://localhost:8080/",
          "height": 34
        },
        "outputId": "bddaa907-c147-4f0c-e400-caa4a5742dae"
      },
      "source": [
        "squares = []\n",
        "for x in range(10):\n",
        "    squares.append(x**2)\n",
        "\n",
        "squares"
      ],
      "execution_count": 23,
      "outputs": [
        {
          "output_type": "execute_result",
          "data": {
            "text/plain": [
              "[0, 1, 4, 9, 16, 25, 36, 49, 64, 81]"
            ]
          },
          "metadata": {
            "tags": []
          },
          "execution_count": 23
        }
      ]
    },
    {
      "cell_type": "code",
      "metadata": {
        "id": "fbTsc1HwgUw1",
        "colab_type": "code",
        "colab": {}
      },
      "source": [
        "squares = [x**2 for x in range(10)]"
      ],
      "execution_count": 0,
      "outputs": []
    },
    {
      "cell_type": "code",
      "metadata": {
        "id": "E8eckaPBgygL",
        "colab_type": "code",
        "colab": {
          "base_uri": "https://localhost:8080/",
          "height": 34
        },
        "outputId": "8a34e1a2-2056-4b5c-eccf-071bc12ad548"
      },
      "source": [
        "[(x, y) for x in [1,2,3] for y in [3,1,4] if x != y]"
      ],
      "execution_count": 26,
      "outputs": [
        {
          "output_type": "execute_result",
          "data": {
            "text/plain": [
              "[(1, 3), (1, 4), (2, 3), (2, 1), (2, 4), (3, 1), (3, 4)]"
            ]
          },
          "metadata": {
            "tags": []
          },
          "execution_count": 26
        }
      ]
    },
    {
      "cell_type": "code",
      "metadata": {
        "id": "rEbQWYPIhehB",
        "colab_type": "code",
        "colab": {
          "base_uri": "https://localhost:8080/",
          "height": 34
        },
        "outputId": "3433121b-3226-4b35-b84f-e5457cb442e6"
      },
      "source": [
        "combs = []\n",
        "for x in [1,2,3]:\n",
        "    for y in [3,1,4]:\n",
        "        if x != y:\n",
        "            combs.append((x, y))\n",
        "\n",
        "combs"
      ],
      "execution_count": 27,
      "outputs": [
        {
          "output_type": "execute_result",
          "data": {
            "text/plain": [
              "[(1, 3), (1, 4), (2, 3), (2, 1), (2, 4), (3, 1), (3, 4)]"
            ]
          },
          "metadata": {
            "tags": []
          },
          "execution_count": 27
        }
      ]
    },
    {
      "cell_type": "code",
      "metadata": {
        "id": "QJZnBCPChlTa",
        "colab_type": "code",
        "colab": {
          "base_uri": "https://localhost:8080/",
          "height": 34
        },
        "outputId": "75f4896f-28fc-4078-e6ba-c947f9751ffa"
      },
      "source": [
        "vec = [-4, -2, 0, 2, 4]\n",
        "# create a new list with the values doubled\n",
        "[x*2 for x in vec]\n"
      ],
      "execution_count": 5,
      "outputs": [
        {
          "output_type": "execute_result",
          "data": {
            "text/plain": [
              "[-8, -4, 0, 4, 8]"
            ]
          },
          "metadata": {
            "tags": []
          },
          "execution_count": 5
        }
      ]
    },
    {
      "cell_type": "code",
      "metadata": {
        "id": "e6s94hIbxX6s",
        "colab_type": "code",
        "colab": {
          "base_uri": "https://localhost:8080/",
          "height": 34
        },
        "outputId": "685bdbfd-d6a9-4f38-e75e-226cc6acca2d"
      },
      "source": [
        "[x for x in vec if x >= 0]"
      ],
      "execution_count": 4,
      "outputs": [
        {
          "output_type": "execute_result",
          "data": {
            "text/plain": [
              "[0, 2, 4]"
            ]
          },
          "metadata": {
            "tags": []
          },
          "execution_count": 4
        }
      ]
    },
    {
      "cell_type": "code",
      "metadata": {
        "id": "Y5tdH9ckwz0s",
        "colab_type": "code",
        "colab": {
          "base_uri": "https://localhost:8080/",
          "height": 34
        },
        "outputId": "c830ce1e-241e-4d8e-ac10-d92084ece886"
      },
      "source": [
        "# filter the list to exclude negative numbers\n",
        "[abs(x) for x in vec]"
      ],
      "execution_count": 3,
      "outputs": [
        {
          "output_type": "execute_result",
          "data": {
            "text/plain": [
              "[4, 2, 0, 2, 4]"
            ]
          },
          "metadata": {
            "tags": []
          },
          "execution_count": 3
        }
      ]
    },
    {
      "cell_type": "code",
      "metadata": {
        "id": "6uitQpyKxPMc",
        "colab_type": "code",
        "colab": {
          "base_uri": "https://localhost:8080/",
          "height": 34
        },
        "outputId": "a37a2eaf-553c-4183-fff2-a4da4b375c89"
      },
      "source": [
        "# call a method on each element\n",
        "freshfruit = ['  banana', '  loganberry ', 'passion fruit  ']\n",
        "[weapon.strip() for weapon in freshfruit]"
      ],
      "execution_count": 6,
      "outputs": [
        {
          "output_type": "execute_result",
          "data": {
            "text/plain": [
              "['banana', 'loganberry', 'passion fruit']"
            ]
          },
          "metadata": {
            "tags": []
          },
          "execution_count": 6
        }
      ]
    },
    {
      "cell_type": "code",
      "metadata": {
        "id": "7DUGb8Q5xlnO",
        "colab_type": "code",
        "colab": {
          "base_uri": "https://localhost:8080/",
          "height": 34
        },
        "outputId": "2cb65349-1f36-429c-ff45-cdc33ea2c324"
      },
      "source": [
        "# create a list of 2-tuples like (number, square)\n",
        "[(x, x**2) for x in range(6)]\n"
      ],
      "execution_count": 7,
      "outputs": [
        {
          "output_type": "execute_result",
          "data": {
            "text/plain": [
              "[(0, 0), (1, 1), (2, 4), (3, 9), (4, 16), (5, 25)]"
            ]
          },
          "metadata": {
            "tags": []
          },
          "execution_count": 7
        }
      ]
    },
    {
      "cell_type": "code",
      "metadata": {
        "id": "UznV_1OXxp-h",
        "colab_type": "code",
        "colab": {
          "base_uri": "https://localhost:8080/",
          "height": 132
        },
        "outputId": "c2b4d82b-e799-4d09-a678-3c1eeac414dc"
      },
      "source": [
        "# the tuple must be parenthesized, otherwise an error is raised\n",
        "[x, x**2 for x in range(6)]"
      ],
      "execution_count": 8,
      "outputs": [
        {
          "output_type": "error",
          "ename": "SyntaxError",
          "evalue": "ignored",
          "traceback": [
            "\u001b[0;36m  File \u001b[0;32m\"<ipython-input-8-a4841c5cdd7d>\"\u001b[0;36m, line \u001b[0;32m1\u001b[0m\n\u001b[0;31m    [x, x**2 for x in range(6)]\u001b[0m\n\u001b[0m               ^\u001b[0m\n\u001b[0;31mSyntaxError\u001b[0m\u001b[0;31m:\u001b[0m invalid syntax\n"
          ]
        }
      ]
    },
    {
      "cell_type": "code",
      "metadata": {
        "id": "SJMjzkBTxyYT",
        "colab_type": "code",
        "colab": {
          "base_uri": "https://localhost:8080/",
          "height": 34
        },
        "outputId": "d2af603b-2833-448f-df60-bd90b7e678d1"
      },
      "source": [
        "# flatten a list using a listcomp with two 'for'\n",
        "vec = [[1,2,3], [4,5,6], [7,8,9]]\n",
        "[num for elem in vec for num in elem]"
      ],
      "execution_count": 9,
      "outputs": [
        {
          "output_type": "execute_result",
          "data": {
            "text/plain": [
              "[1, 2, 3, 4, 5, 6, 7, 8, 9]"
            ]
          },
          "metadata": {
            "tags": []
          },
          "execution_count": 9
        }
      ]
    },
    {
      "cell_type": "code",
      "metadata": {
        "id": "jtVPpUL1x8i3",
        "colab_type": "code",
        "colab": {
          "base_uri": "https://localhost:8080/",
          "height": 34
        },
        "outputId": "6bec1807-2cdf-47f7-9bce-0d2e2bf4f1e9"
      },
      "source": [
        "from math import pi\n",
        "[str(round(pi, i)) for i in range(1, 6)]"
      ],
      "execution_count": 10,
      "outputs": [
        {
          "output_type": "execute_result",
          "data": {
            "text/plain": [
              "['3.1', '3.14', '3.142', '3.1416', '3.14159']"
            ]
          },
          "metadata": {
            "tags": []
          },
          "execution_count": 10
        }
      ]
    },
    {
      "cell_type": "code",
      "metadata": {
        "id": "RlOfUHAxyB_2",
        "colab_type": "code",
        "colab": {}
      },
      "source": [
        "matrix = [\n",
        "    [1, 2, 3, 4],\n",
        "    [5, 6, 7, 8],\n",
        "    [9, 10, 11, 12],\n",
        "]"
      ],
      "execution_count": 0,
      "outputs": []
    },
    {
      "cell_type": "code",
      "metadata": {
        "id": "--rydtt2yLxR",
        "colab_type": "code",
        "colab": {
          "base_uri": "https://localhost:8080/",
          "height": 34
        },
        "outputId": "51873f30-6728-4ed5-fee4-172529d2bfc5"
      },
      "source": [
        "[[row[i] for row in matrix] for i in range(4)]"
      ],
      "execution_count": 55,
      "outputs": [
        {
          "output_type": "execute_result",
          "data": {
            "text/plain": [
              "[[1, 5, 9], [2, 6, 10], [3, 7, 11], [4, 8, 12]]"
            ]
          },
          "metadata": {
            "tags": []
          },
          "execution_count": 55
        }
      ]
    },
    {
      "cell_type": "code",
      "metadata": {
        "id": "5yHLIvX8yO3s",
        "colab_type": "code",
        "colab": {
          "base_uri": "https://localhost:8080/",
          "height": 34
        },
        "outputId": "4ddb8ddc-eb90-40e0-b46c-d1b19c4d3c50"
      },
      "source": [
        "transposed = []\n",
        "for i in range(4):\n",
        "    transposed.append([row[i] for row in matrix])\n",
        "\n",
        "transposed"
      ],
      "execution_count": 16,
      "outputs": [
        {
          "output_type": "execute_result",
          "data": {
            "text/plain": [
              "[[1, 5, 9], [2, 6, 10], [3, 7, 11], [4, 8, 12]]"
            ]
          },
          "metadata": {
            "tags": []
          },
          "execution_count": 16
        }
      ]
    },
    {
      "cell_type": "code",
      "metadata": {
        "id": "heZ-FKo6yVlA",
        "colab_type": "code",
        "colab": {
          "base_uri": "https://localhost:8080/",
          "height": 34
        },
        "outputId": "19d5b650-be8d-4be9-968c-30d803d43b7d"
      },
      "source": [
        "transposed = []\n",
        "for i in range(4):\n",
        "    # the following 3 lines implement the nested listcomp\n",
        "    transposed_row = []\n",
        "    for row in matrix:\n",
        "        transposed_row.append(row[i])\n",
        "    transposed.append(transposed_row)\n",
        "\n",
        "transposed"
      ],
      "execution_count": 14,
      "outputs": [
        {
          "output_type": "execute_result",
          "data": {
            "text/plain": [
              "[[1, 5, 9], [2, 6, 10], [3, 7, 11], [4, 8, 12]]"
            ]
          },
          "metadata": {
            "tags": []
          },
          "execution_count": 14
        }
      ]
    },
    {
      "cell_type": "code",
      "metadata": {
        "id": "9BquAALZyY0s",
        "colab_type": "code",
        "colab": {
          "base_uri": "https://localhost:8080/",
          "height": 34
        },
        "outputId": "77d54b19-9cef-48e0-a26b-7dba78c8c347"
      },
      "source": [
        "list(zip(*matrix))"
      ],
      "execution_count": 15,
      "outputs": [
        {
          "output_type": "execute_result",
          "data": {
            "text/plain": [
              "[(1, 5, 9), (2, 6, 10), (3, 7, 11), (4, 8, 12)]"
            ]
          },
          "metadata": {
            "tags": []
          },
          "execution_count": 15
        }
      ]
    },
    {
      "cell_type": "code",
      "metadata": {
        "id": "4D-kKCbrzkqS",
        "colab_type": "code",
        "colab": {
          "base_uri": "https://localhost:8080/",
          "height": 34
        },
        "outputId": "ffdb4ec6-f41a-4473-9f8c-809943988666"
      },
      "source": [
        "a = [-1, 1, 66.25, 333, 333, 1234.5]\n",
        "del a[0]\n",
        "a"
      ],
      "execution_count": 24,
      "outputs": [
        {
          "output_type": "execute_result",
          "data": {
            "text/plain": [
              "[1, 66.25, 333, 333, 1234.5]"
            ]
          },
          "metadata": {
            "tags": []
          },
          "execution_count": 24
        }
      ]
    },
    {
      "cell_type": "code",
      "metadata": {
        "id": "dhyOUXpJ0RG1",
        "colab_type": "code",
        "colab": {
          "base_uri": "https://localhost:8080/",
          "height": 34
        },
        "outputId": "27650415-3cca-4593-acea-964520debcd6"
      },
      "source": [
        "del a[2:4]\n",
        "a\n"
      ],
      "execution_count": 25,
      "outputs": [
        {
          "output_type": "execute_result",
          "data": {
            "text/plain": [
              "[1, 66.25, 1234.5]"
            ]
          },
          "metadata": {
            "tags": []
          },
          "execution_count": 25
        }
      ]
    },
    {
      "cell_type": "code",
      "metadata": {
        "id": "ptWeLYDA0TuI",
        "colab_type": "code",
        "colab": {
          "base_uri": "https://localhost:8080/",
          "height": 34
        },
        "outputId": "02cbc7d9-1b38-442a-88e3-38bd48875d4a"
      },
      "source": [
        "del a[:]\n",
        "a"
      ],
      "execution_count": 26,
      "outputs": [
        {
          "output_type": "execute_result",
          "data": {
            "text/plain": [
              "[]"
            ]
          },
          "metadata": {
            "tags": []
          },
          "execution_count": 26
        }
      ]
    },
    {
      "cell_type": "code",
      "metadata": {
        "id": "xNIcHAQi00MW",
        "colab_type": "code",
        "colab": {
          "base_uri": "https://localhost:8080/",
          "height": 34
        },
        "outputId": "a18cc4c2-69fa-4d84-b1a0-32030fe2146e"
      },
      "source": [
        "t = 12345, 54321, 'hello!'\n",
        "t[0]\n",
        "\n",
        "t"
      ],
      "execution_count": 27,
      "outputs": [
        {
          "output_type": "execute_result",
          "data": {
            "text/plain": [
              "(12345, 54321, 'hello!')"
            ]
          },
          "metadata": {
            "tags": []
          },
          "execution_count": 27
        }
      ]
    },
    {
      "cell_type": "code",
      "metadata": {
        "id": "ZZd6k5f11Fpt",
        "colab_type": "code",
        "colab": {
          "base_uri": "https://localhost:8080/",
          "height": 34
        },
        "outputId": "89899103-b767-453e-b2eb-bf51ab4a0e4e"
      },
      "source": [
        "# Tuples may be nested:\n",
        "u = t, (1, 2, 3, 4, 5)\n",
        "u\n"
      ],
      "execution_count": 28,
      "outputs": [
        {
          "output_type": "execute_result",
          "data": {
            "text/plain": [
              "((12345, 54321, 'hello!'), (1, 2, 3, 4, 5))"
            ]
          },
          "metadata": {
            "tags": []
          },
          "execution_count": 28
        }
      ]
    },
    {
      "cell_type": "code",
      "metadata": {
        "id": "PssVHfPi1nhA",
        "colab_type": "code",
        "colab": {
          "base_uri": "https://localhost:8080/",
          "height": 167
        },
        "outputId": "52b6019d-c4f4-4d02-ee59-1d5462fcf5ef"
      },
      "source": [
        "\n",
        "# Tuples are immutable:\n",
        "t[0] = 88888\n"
      ],
      "execution_count": 29,
      "outputs": [
        {
          "output_type": "error",
          "ename": "TypeError",
          "evalue": "ignored",
          "traceback": [
            "\u001b[0;31m---------------------------------------------------------------------------\u001b[0m",
            "\u001b[0;31mTypeError\u001b[0m                                 Traceback (most recent call last)",
            "\u001b[0;32m<ipython-input-29-d739abe3b757>\u001b[0m in \u001b[0;36m<module>\u001b[0;34m()\u001b[0m\n\u001b[0;32m----> 1\u001b[0;31m \u001b[0mt\u001b[0m\u001b[0;34m[\u001b[0m\u001b[0;36m0\u001b[0m\u001b[0;34m]\u001b[0m \u001b[0;34m=\u001b[0m \u001b[0;36m88888\u001b[0m\u001b[0;34m\u001b[0m\u001b[0;34m\u001b[0m\u001b[0m\n\u001b[0m",
            "\u001b[0;31mTypeError\u001b[0m: 'tuple' object does not support item assignment"
          ]
        }
      ]
    },
    {
      "cell_type": "code",
      "metadata": {
        "id": "jq91TtT91rsQ",
        "colab_type": "code",
        "colab": {
          "base_uri": "https://localhost:8080/",
          "height": 34
        },
        "outputId": "124c9383-05ce-4ff3-e815-1b2c71bedcfa"
      },
      "source": [
        "\n",
        "# but they can contain mutable objects:\n",
        "v = ([1, 2, 3], [3, 2, 1])\n",
        "v\n"
      ],
      "execution_count": 30,
      "outputs": [
        {
          "output_type": "execute_result",
          "data": {
            "text/plain": [
              "([1, 2, 3], [3, 2, 1])"
            ]
          },
          "metadata": {
            "tags": []
          },
          "execution_count": 30
        }
      ]
    },
    {
      "cell_type": "code",
      "metadata": {
        "id": "Iuq46baf1_UQ",
        "colab_type": "code",
        "colab": {
          "base_uri": "https://localhost:8080/",
          "height": 34
        },
        "outputId": "815b4ab6-5d6f-4f7d-a31e-a6fd7f9aeecd"
      },
      "source": [
        "basket = {'apple', 'orange', 'apple', 'pear', 'orange', 'banana'}\n",
        "print(basket)                      # show that duplicates have been removed"
      ],
      "execution_count": 31,
      "outputs": [
        {
          "output_type": "stream",
          "text": [
            "{'pear', 'orange', 'banana', 'apple'}\n"
          ],
          "name": "stdout"
        }
      ]
    },
    {
      "cell_type": "code",
      "metadata": {
        "id": "WcFO4aY92aJz",
        "colab_type": "code",
        "colab": {
          "base_uri": "https://localhost:8080/",
          "height": 34
        },
        "outputId": "5e7c99d5-b729-4d39-b971-2255055f5df3"
      },
      "source": [
        "'orange' in basket                 # fast membership testing"
      ],
      "execution_count": 32,
      "outputs": [
        {
          "output_type": "execute_result",
          "data": {
            "text/plain": [
              "True"
            ]
          },
          "metadata": {
            "tags": []
          },
          "execution_count": 32
        }
      ]
    },
    {
      "cell_type": "code",
      "metadata": {
        "id": "gpUm1lWM2dDH",
        "colab_type": "code",
        "colab": {
          "base_uri": "https://localhost:8080/",
          "height": 34
        },
        "outputId": "dda51638-71f2-4c8b-9c9f-73dfc4f072b3"
      },
      "source": [
        "'crabgrass' in basket"
      ],
      "execution_count": 33,
      "outputs": [
        {
          "output_type": "execute_result",
          "data": {
            "text/plain": [
              "False"
            ]
          },
          "metadata": {
            "tags": []
          },
          "execution_count": 33
        }
      ]
    },
    {
      "cell_type": "code",
      "metadata": {
        "id": "_y8t-yVW2hpI",
        "colab_type": "code",
        "colab": {
          "base_uri": "https://localhost:8080/",
          "height": 34
        },
        "outputId": "f210c8d4-9492-4355-c193-222fb596bb74"
      },
      "source": [
        "# Demonstrate set operations on unique letters from two words\n",
        "\n",
        "a = set('abracadabra')\n",
        "b = set('alacazam')\n",
        "a                                  # unique letters in a\n",
        "\n",
        "a - b                              # letters in a but not in b\n",
        "\n",
        "a | b                              # letters in a or b or both\n",
        "\n",
        "a & b                              # letters in both a and b\n",
        "\n",
        "a ^ b                              # letters in a or b but not both"
      ],
      "execution_count": 34,
      "outputs": [
        {
          "output_type": "execute_result",
          "data": {
            "text/plain": [
              "{'b', 'd', 'l', 'm', 'r', 'z'}"
            ]
          },
          "metadata": {
            "tags": []
          },
          "execution_count": 34
        }
      ]
    },
    {
      "cell_type": "code",
      "metadata": {
        "id": "oT3B0Wmr8h0P",
        "colab_type": "code",
        "colab": {
          "base_uri": "https://localhost:8080/",
          "height": 34
        },
        "outputId": "1922d75a-4d55-41f7-8b1e-606656538435"
      },
      "source": [
        "tel = {'jack': 4098, 'sape': 4139}\n",
        "tel['guido'] = 4127\n",
        "tel"
      ],
      "execution_count": 35,
      "outputs": [
        {
          "output_type": "execute_result",
          "data": {
            "text/plain": [
              "{'guido': 4127, 'jack': 4098, 'sape': 4139}"
            ]
          },
          "metadata": {
            "tags": []
          },
          "execution_count": 35
        }
      ]
    },
    {
      "cell_type": "code",
      "metadata": {
        "id": "JcqpiDbB8l6D",
        "colab_type": "code",
        "colab": {
          "base_uri": "https://localhost:8080/",
          "height": 34
        },
        "outputId": "7c810528-96bb-4267-cfd5-5f55d30760ce"
      },
      "source": [
        "tel['jack']"
      ],
      "execution_count": 36,
      "outputs": [
        {
          "output_type": "execute_result",
          "data": {
            "text/plain": [
              "4098"
            ]
          },
          "metadata": {
            "tags": []
          },
          "execution_count": 36
        }
      ]
    },
    {
      "cell_type": "code",
      "metadata": {
        "id": "jjeI5VVp8q7F",
        "colab_type": "code",
        "colab": {
          "base_uri": "https://localhost:8080/",
          "height": 34
        },
        "outputId": "1c82d20b-7eed-4372-e2eb-4883505ca032"
      },
      "source": [
        "del tel['sape']\n",
        "tel['irv'] = 4127\n",
        "tel"
      ],
      "execution_count": 37,
      "outputs": [
        {
          "output_type": "execute_result",
          "data": {
            "text/plain": [
              "{'guido': 4127, 'irv': 4127, 'jack': 4098}"
            ]
          },
          "metadata": {
            "tags": []
          },
          "execution_count": 37
        }
      ]
    },
    {
      "cell_type": "code",
      "metadata": {
        "id": "H3ClJakB8vUr",
        "colab_type": "code",
        "colab": {
          "base_uri": "https://localhost:8080/",
          "height": 34
        },
        "outputId": "d64b2158-1726-4e70-bdb0-642c36782e52"
      },
      "source": [
        "list(tel)"
      ],
      "execution_count": 38,
      "outputs": [
        {
          "output_type": "execute_result",
          "data": {
            "text/plain": [
              "['jack', 'guido', 'irv']"
            ]
          },
          "metadata": {
            "tags": []
          },
          "execution_count": 38
        }
      ]
    },
    {
      "cell_type": "code",
      "metadata": {
        "id": "mGrnm-bD8xby",
        "colab_type": "code",
        "colab": {
          "base_uri": "https://localhost:8080/",
          "height": 34
        },
        "outputId": "5a37938b-e0bc-4843-ab3e-5d2fbd61f13d"
      },
      "source": [
        "sorted(tel)"
      ],
      "execution_count": 39,
      "outputs": [
        {
          "output_type": "execute_result",
          "data": {
            "text/plain": [
              "['guido', 'irv', 'jack']"
            ]
          },
          "metadata": {
            "tags": []
          },
          "execution_count": 39
        }
      ]
    },
    {
      "cell_type": "code",
      "metadata": {
        "id": "Om6a1MYJ82x0",
        "colab_type": "code",
        "colab": {
          "base_uri": "https://localhost:8080/",
          "height": 34
        },
        "outputId": "9a6548a7-1906-4d44-e02b-9dc79c34acec"
      },
      "source": [
        "'guido' in tel"
      ],
      "execution_count": 40,
      "outputs": [
        {
          "output_type": "execute_result",
          "data": {
            "text/plain": [
              "True"
            ]
          },
          "metadata": {
            "tags": []
          },
          "execution_count": 40
        }
      ]
    },
    {
      "cell_type": "code",
      "metadata": {
        "id": "B5JF--ZM86bM",
        "colab_type": "code",
        "colab": {
          "base_uri": "https://localhost:8080/",
          "height": 34
        },
        "outputId": "13e2c5dd-716b-4dc2-da30-8054f922cc0b"
      },
      "source": [
        "\n",
        "'jack' not in tel"
      ],
      "execution_count": 41,
      "outputs": [
        {
          "output_type": "execute_result",
          "data": {
            "text/plain": [
              "False"
            ]
          },
          "metadata": {
            "tags": []
          },
          "execution_count": 41
        }
      ]
    },
    {
      "cell_type": "code",
      "metadata": {
        "id": "R1OE_arV9BPz",
        "colab_type": "code",
        "colab": {
          "base_uri": "https://localhost:8080/",
          "height": 34
        },
        "outputId": "fea8155c-fe48-435b-b22e-d4e8e0bad39e"
      },
      "source": [
        "dict([('sape', 4139), ('guido', 4127), ('jack', 4098)])\n"
      ],
      "execution_count": 42,
      "outputs": [
        {
          "output_type": "execute_result",
          "data": {
            "text/plain": [
              "{'guido': 4127, 'jack': 4098, 'sape': 4139}"
            ]
          },
          "metadata": {
            "tags": []
          },
          "execution_count": 42
        }
      ]
    },
    {
      "cell_type": "code",
      "metadata": {
        "id": "1Hy9SXyM9LsK",
        "colab_type": "code",
        "colab": {
          "base_uri": "https://localhost:8080/",
          "height": 34
        },
        "outputId": "596ff8d8-2fe8-45b5-c5fc-2285c0a50b4f"
      },
      "source": [
        "{x: x**2 for x in (2, 4, 6)}"
      ],
      "execution_count": 43,
      "outputs": [
        {
          "output_type": "execute_result",
          "data": {
            "text/plain": [
              "{2: 4, 4: 16, 6: 36}"
            ]
          },
          "metadata": {
            "tags": []
          },
          "execution_count": 43
        }
      ]
    },
    {
      "cell_type": "code",
      "metadata": {
        "id": "2-MRW2Bw9brw",
        "colab_type": "code",
        "colab": {
          "base_uri": "https://localhost:8080/",
          "height": 34
        },
        "outputId": "de7df56d-be49-4883-b45f-fde8887a7a02"
      },
      "source": [
        "dict(sape=4139, guido=4127, jack=4098)"
      ],
      "execution_count": 44,
      "outputs": [
        {
          "output_type": "execute_result",
          "data": {
            "text/plain": [
              "{'guido': 4127, 'jack': 4098, 'sape': 4139}"
            ]
          },
          "metadata": {
            "tags": []
          },
          "execution_count": 44
        }
      ]
    },
    {
      "cell_type": "code",
      "metadata": {
        "id": "VeGYfGX0-RE0",
        "colab_type": "code",
        "colab": {
          "base_uri": "https://localhost:8080/",
          "height": 52
        },
        "outputId": "0f158209-cae8-468a-fc84-46a86a2dca88"
      },
      "source": [
        "knights = {'gallahad': 'the pure', 'robin': 'the brave'}\n",
        "for k, v in knights.items():\n",
        "    print(k, v)"
      ],
      "execution_count": 45,
      "outputs": [
        {
          "output_type": "stream",
          "text": [
            "gallahad the pure\n",
            "robin the brave\n"
          ],
          "name": "stdout"
        }
      ]
    },
    {
      "cell_type": "code",
      "metadata": {
        "id": "jJSpxobA-kKY",
        "colab_type": "code",
        "colab": {
          "base_uri": "https://localhost:8080/",
          "height": 69
        },
        "outputId": "22869fc7-ab2c-45df-8e77-ec9ed0ea14f0"
      },
      "source": [
        "for i, v in enumerate(['tic', 'tac', 'toe']):\n",
        "    print(i, v)"
      ],
      "execution_count": 46,
      "outputs": [
        {
          "output_type": "stream",
          "text": [
            "0 tic\n",
            "1 tac\n",
            "2 toe\n"
          ],
          "name": "stdout"
        }
      ]
    },
    {
      "cell_type": "code",
      "metadata": {
        "id": "Ii-nuSUu-tx3",
        "colab_type": "code",
        "colab": {
          "base_uri": "https://localhost:8080/",
          "height": 69
        },
        "outputId": "1bdf9885-9b9b-471b-cbaa-f227814a0262"
      },
      "source": [
        "questions = ['name', 'quest', 'favorite color']\n",
        "answers = ['lancelot', 'the holy grail', 'blue']\n",
        "for q, a in zip(questions, answers):\n",
        "    print('What is your {0}?  It is {1}.'.format(q, a))"
      ],
      "execution_count": 47,
      "outputs": [
        {
          "output_type": "stream",
          "text": [
            "What is your name?  It is lancelot.\n",
            "What is your quest?  It is the holy grail.\n",
            "What is your favorite color?  It is blue.\n"
          ],
          "name": "stdout"
        }
      ]
    },
    {
      "cell_type": "code",
      "metadata": {
        "id": "POeZZNIi_Yli",
        "colab_type": "code",
        "colab": {
          "base_uri": "https://localhost:8080/",
          "height": 104
        },
        "outputId": "c12234c3-1535-49a0-cfe2-bf8d0d912b56"
      },
      "source": [
        "for i in reversed(range(1, 10, 2)):\n",
        "    print(i)\n"
      ],
      "execution_count": 48,
      "outputs": [
        {
          "output_type": "stream",
          "text": [
            "9\n",
            "7\n",
            "5\n",
            "3\n",
            "1\n"
          ],
          "name": "stdout"
        }
      ]
    },
    {
      "cell_type": "code",
      "metadata": {
        "id": "U3es96G0_bjd",
        "colab_type": "code",
        "colab": {
          "base_uri": "https://localhost:8080/",
          "height": 86
        },
        "outputId": "2c156fd5-d1cf-4ede-a205-b27682264f84"
      },
      "source": [
        "basket = ['apple', 'orange', 'apple', 'pear', 'orange', 'banana']\n",
        "for f in sorted(set(basket)):\n",
        "    print(f)\n"
      ],
      "execution_count": 52,
      "outputs": [
        {
          "output_type": "stream",
          "text": [
            "apple\n",
            "banana\n",
            "orange\n",
            "pear\n"
          ],
          "name": "stdout"
        }
      ]
    },
    {
      "cell_type": "code",
      "metadata": {
        "id": "lhiidOHqBzLq",
        "colab_type": "code",
        "colab": {}
      },
      "source": [
        ""
      ],
      "execution_count": 0,
      "outputs": []
    },
    {
      "cell_type": "code",
      "metadata": {
        "id": "VIA7xuSa_fAJ",
        "colab_type": "code",
        "colab": {
          "base_uri": "https://localhost:8080/",
          "height": 34
        },
        "outputId": "ab226921-0d82-4f44-fc1d-353716078fc8"
      },
      "source": [
        "import math\n",
        "raw_data = [56.2, float('NaN'), 51.7, 55.3, 52.5, float('NaN'), 47.8]\n",
        "filtered_data = []\n",
        "for value in raw_data:\n",
        "    if not math.isnan(value):\n",
        "        filtered_data.append(value)\n",
        "\n",
        "filtered_data"
      ],
      "execution_count": 50,
      "outputs": [
        {
          "output_type": "execute_result",
          "data": {
            "text/plain": [
              "[56.2, 51.7, 55.3, 52.5, 47.8]"
            ]
          },
          "metadata": {
            "tags": []
          },
          "execution_count": 50
        }
      ]
    },
    {
      "cell_type": "code",
      "metadata": {
        "id": "d4ddx738B1to",
        "colab_type": "code",
        "colab": {
          "base_uri": "https://localhost:8080/",
          "height": 34
        },
        "outputId": "aaa1a61f-8107-414e-a88d-f9311791f7f8"
      },
      "source": [
        "string1, string2, string3 = '', 'Trondheim', 'Hammer Dance'\n",
        "non_null = string1 or string2 or string3\n",
        "non_null"
      ],
      "execution_count": 53,
      "outputs": [
        {
          "output_type": "execute_result",
          "data": {
            "text/plain": [
              "'Trondheim'"
            ]
          },
          "metadata": {
            "tags": []
          },
          "execution_count": 53
        }
      ]
    },
    {
      "cell_type": "code",
      "metadata": {
        "id": "O1jfyj_PDb66",
        "colab_type": "code",
        "colab": {
          "base_uri": "https://localhost:8080/",
          "height": 34
        },
        "outputId": "555954ed-82f1-43d3-d9f9-1ecf33c91321"
      },
      "source": [
        "(1, 2, 3)              < (1, 2, 4)\n",
        "[1, 2, 3]              < [1, 2, 4]\n",
        "'ABC' < 'C' < 'Pascal' < 'Python'\n",
        "(1, 2, 3, 4)           < (1, 2, 4)\n",
        "(1, 2)                 < (1, 2, -1)\n",
        "(1, 2, 3)             == (1.0, 2.0, 3.0)\n",
        "(1, 2, ('aa', 'ab'))   < (1, 2, ('abc', 'a'), 4)"
      ],
      "execution_count": 56,
      "outputs": [
        {
          "output_type": "execute_result",
          "data": {
            "text/plain": [
              "True"
            ]
          },
          "metadata": {
            "tags": []
          },
          "execution_count": 56
        }
      ]
    },
    {
      "cell_type": "code",
      "metadata": {
        "id": "OZszRT9BEKP8",
        "colab_type": "code",
        "colab": {}
      },
      "source": [
        ""
      ],
      "execution_count": 0,
      "outputs": []
    }
  ]
}