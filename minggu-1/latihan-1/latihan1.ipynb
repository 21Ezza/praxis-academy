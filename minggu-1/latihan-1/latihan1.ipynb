{
  "nbformat": 4,
  "nbformat_minor": 0,
  "metadata": {
    "kernelspec": {
      "display_name": "Python 3",
      "language": "python",
      "name": "python3"
    },
    "language_info": {
      "codemirror_mode": {
        "name": "ipython",
        "version": 3
      },
      "file_extension": ".py",
      "mimetype": "text/x-python",
      "name": "python",
      "nbconvert_exporter": "python",
      "pygments_lexer": "ipython3",
      "version": "3.7.4"
    },
    "colab": {
      "name": "latihan1.ipynb",
      "provenance": []
    }
  },
  "cells": [
    {
      "cell_type": "code",
      "metadata": {
        "id": "oCjRFEKkFoQJ",
        "colab_type": "code",
        "colab": {}
      },
      "source": [
        "the_world_is_flat = True"
      ],
      "execution_count": 0,
      "outputs": []
    },
    {
      "cell_type": "code",
      "metadata": {
        "id": "qE9ZQLsVFoQW",
        "colab_type": "code",
        "colab": {},
        "outputId": "f07f8b36-f7a9-4158-fa0a-2b0efc6777ac"
      },
      "source": [
        "the_world_is_flat = True\n",
        "if the_the_world_is_flat:\n",
        "    print(\"Be carefull not to fall off!\")"
      ],
      "execution_count": 0,
      "outputs": [
        {
          "output_type": "error",
          "ename": "NameError",
          "evalue": "name 'the_the_world_is_flat' is not defined",
          "traceback": [
            "\u001b[0;31m---------------------------------------------------------------------------\u001b[0m",
            "\u001b[0;31mNameError\u001b[0m                                 Traceback (most recent call last)",
            "\u001b[0;32m<ipython-input-2-f77ce077cbf2>\u001b[0m in \u001b[0;36m<module>\u001b[0;34m\u001b[0m\n\u001b[1;32m      1\u001b[0m \u001b[0mthe_world_is_flat\u001b[0m \u001b[0;34m=\u001b[0m \u001b[0;32mTrue\u001b[0m\u001b[0;34m\u001b[0m\u001b[0;34m\u001b[0m\u001b[0m\n\u001b[0;32m----> 2\u001b[0;31m \u001b[0;32mif\u001b[0m \u001b[0mthe_the_world_is_flat\u001b[0m\u001b[0;34m:\u001b[0m\u001b[0;34m\u001b[0m\u001b[0;34m\u001b[0m\u001b[0m\n\u001b[0m\u001b[1;32m      3\u001b[0m     \u001b[0mprint\u001b[0m\u001b[0;34m(\u001b[0m\u001b[0;34m\"Be carefull not to fall off!\"\u001b[0m\u001b[0;34m)\u001b[0m\u001b[0;34m\u001b[0m\u001b[0;34m\u001b[0m\u001b[0m\n",
            "\u001b[0;31mNameError\u001b[0m: name 'the_the_world_is_flat' is not defined"
          ]
        }
      ]
    },
    {
      "cell_type": "code",
      "metadata": {
        "id": "MB0Y98lzFoQi",
        "colab_type": "code",
        "colab": {},
        "outputId": "e3674289-ebe5-4e47-c214-f89337a2df95"
      },
      "source": [
        "the_world_is_flat = True\n",
        "if the_world_is_flat:\n",
        "    print(\"Be carefull not to fall off!\")"
      ],
      "execution_count": 0,
      "outputs": [
        {
          "output_type": "stream",
          "text": [
            "Be carefull not to fall off!\n"
          ],
          "name": "stdout"
        }
      ]
    },
    {
      "cell_type": "code",
      "metadata": {
        "id": "3N4q2FUIFoQr",
        "colab_type": "code",
        "colab": {}
      },
      "source": [
        "#-*- coding: encoding -*-"
      ],
      "execution_count": 0,
      "outputs": []
    },
    {
      "cell_type": "code",
      "metadata": {
        "id": "6MgR9v5GFoQz",
        "colab_type": "code",
        "colab": {}
      },
      "source": [
        "# -*- coding: cp1252 -*-"
      ],
      "execution_count": 0,
      "outputs": []
    },
    {
      "cell_type": "code",
      "metadata": {
        "id": "kIB6QFnbFoQ6",
        "colab_type": "code",
        "colab": {}
      },
      "source": [
        "#this is the first comment\n",
        "spam = 1 #and this is the second comment\n",
        "         #.... and now a third !\n",
        "text = \"# This is not a comment because it's inside quotes.\""
      ],
      "execution_count": 0,
      "outputs": []
    },
    {
      "cell_type": "code",
      "metadata": {
        "id": "u6ivv8IKFoRB",
        "colab_type": "code",
        "colab": {},
        "outputId": "98d2d7b1-0cbd-4347-b679-966f34c32fbc"
      },
      "source": [
        "2+2"
      ],
      "execution_count": 0,
      "outputs": [
        {
          "output_type": "execute_result",
          "data": {
            "text/plain": [
              "4"
            ]
          },
          "metadata": {
            "tags": []
          },
          "execution_count": 7
        }
      ]
    },
    {
      "cell_type": "code",
      "metadata": {
        "id": "c-6Q1Ni-FoRH",
        "colab_type": "code",
        "colab": {},
        "outputId": "6765b71b-75aa-4c60-eec7-041d9701deb7"
      },
      "source": [
        "50 - 5*6"
      ],
      "execution_count": 0,
      "outputs": [
        {
          "output_type": "execute_result",
          "data": {
            "text/plain": [
              "20"
            ]
          },
          "metadata": {
            "tags": []
          },
          "execution_count": 8
        }
      ]
    },
    {
      "cell_type": "code",
      "metadata": {
        "id": "NvCuy7dtFoRO",
        "colab_type": "code",
        "colab": {},
        "outputId": "01c96b19-ed05-4088-b85e-9c8674648f6f"
      },
      "source": [
        "(50 - 5*6) / 4"
      ],
      "execution_count": 0,
      "outputs": [
        {
          "output_type": "execute_result",
          "data": {
            "text/plain": [
              "5.0"
            ]
          },
          "metadata": {
            "tags": []
          },
          "execution_count": 9
        }
      ]
    },
    {
      "cell_type": "code",
      "metadata": {
        "id": "EuuP3O0ZFoRV",
        "colab_type": "code",
        "colab": {},
        "outputId": "8c4b5e01-824c-4ccc-b685-056f3f447027"
      },
      "source": [
        "8 / 5 # division always returns a floating point number"
      ],
      "execution_count": 0,
      "outputs": [
        {
          "output_type": "execute_result",
          "data": {
            "text/plain": [
              "1.6"
            ]
          },
          "metadata": {
            "tags": []
          },
          "execution_count": 10
        }
      ]
    },
    {
      "cell_type": "code",
      "metadata": {
        "id": "iu77jfeYFoRd",
        "colab_type": "code",
        "colab": {},
        "outputId": "edba20d7-dd66-4f8f-a301-588bd8d5b0d1"
      },
      "source": [
        "17 / 3 # classic division returns a float"
      ],
      "execution_count": 0,
      "outputs": [
        {
          "output_type": "execute_result",
          "data": {
            "text/plain": [
              "5.666666666666667"
            ]
          },
          "metadata": {
            "tags": []
          },
          "execution_count": 11
        }
      ]
    },
    {
      "cell_type": "code",
      "metadata": {
        "id": "19WN-3byFoRl",
        "colab_type": "code",
        "colab": {},
        "outputId": "eca2f8c6-4b02-485b-889c-fcce0ee91367"
      },
      "source": [
        "17 // 3 # floor division discards the fractional part"
      ],
      "execution_count": 0,
      "outputs": [
        {
          "output_type": "execute_result",
          "data": {
            "text/plain": [
              "5"
            ]
          },
          "metadata": {
            "tags": []
          },
          "execution_count": 12
        }
      ]
    },
    {
      "cell_type": "code",
      "metadata": {
        "id": "Z2D5t9m8FoRs",
        "colab_type": "code",
        "colab": {},
        "outputId": "6608c1f8-c626-4d0d-9605-abebaf636415"
      },
      "source": [
        "17 % 3 # the % operator returns the remainder of the division"
      ],
      "execution_count": 0,
      "outputs": [
        {
          "output_type": "execute_result",
          "data": {
            "text/plain": [
              "2"
            ]
          },
          "metadata": {
            "tags": []
          },
          "execution_count": 13
        }
      ]
    },
    {
      "cell_type": "code",
      "metadata": {
        "id": "-aVxV7EUFoRy",
        "colab_type": "code",
        "colab": {},
        "outputId": "924ce3d7-ec16-47d8-e95e-0c12248d8cbc"
      },
      "source": [
        "5 * 3 + 2 # result * divisor + remainder"
      ],
      "execution_count": 0,
      "outputs": [
        {
          "output_type": "execute_result",
          "data": {
            "text/plain": [
              "17"
            ]
          },
          "metadata": {
            "tags": []
          },
          "execution_count": 14
        }
      ]
    },
    {
      "cell_type": "code",
      "metadata": {
        "id": "ZjBStQMQFoR4",
        "colab_type": "code",
        "colab": {},
        "outputId": "1f6fd4db-ee90-4c8b-8188-281f871068fa"
      },
      "source": [
        "5 ** 2 # 5 squared"
      ],
      "execution_count": 0,
      "outputs": [
        {
          "output_type": "execute_result",
          "data": {
            "text/plain": [
              "25"
            ]
          },
          "metadata": {
            "tags": []
          },
          "execution_count": 15
        }
      ]
    },
    {
      "cell_type": "code",
      "metadata": {
        "id": "btFP7Fy5FoSE",
        "colab_type": "code",
        "colab": {},
        "outputId": "d3d9ecb2-25ad-4f2c-d906-6383e2c7673a"
      },
      "source": [
        "2 ** 7 # 2 to the power of 7"
      ],
      "execution_count": 0,
      "outputs": [
        {
          "output_type": "execute_result",
          "data": {
            "text/plain": [
              "128"
            ]
          },
          "metadata": {
            "tags": []
          },
          "execution_count": 16
        }
      ]
    },
    {
      "cell_type": "code",
      "metadata": {
        "id": "3J7WnMNGFoSL",
        "colab_type": "code",
        "colab": {},
        "outputId": "1dab995f-21b0-4b48-8b62-730e6f77c34d"
      },
      "source": [
        "width = 20\n",
        "height = 5 * 9\n",
        "width * height "
      ],
      "execution_count": 0,
      "outputs": [
        {
          "output_type": "execute_result",
          "data": {
            "text/plain": [
              "900"
            ]
          },
          "metadata": {
            "tags": []
          },
          "execution_count": 17
        }
      ]
    },
    {
      "cell_type": "code",
      "metadata": {
        "id": "2phcMB_PFoSQ",
        "colab_type": "code",
        "colab": {},
        "outputId": "7ca84d55-76cf-46c6-d0e7-80612efb832c"
      },
      "source": [
        "n # try to access an undefined variable"
      ],
      "execution_count": 0,
      "outputs": [
        {
          "output_type": "error",
          "ename": "NameError",
          "evalue": "name 'n' is not defined",
          "traceback": [
            "\u001b[0;31m---------------------------------------------------------------------------\u001b[0m",
            "\u001b[0;31mNameError\u001b[0m                                 Traceback (most recent call last)",
            "\u001b[0;32m<ipython-input-18-2e0925082c84>\u001b[0m in \u001b[0;36m<module>\u001b[0;34m\u001b[0m\n\u001b[0;32m----> 1\u001b[0;31m \u001b[0mn\u001b[0m \u001b[0;31m# try to access an undefined variable\u001b[0m\u001b[0;34m\u001b[0m\u001b[0;34m\u001b[0m\u001b[0m\n\u001b[0m",
            "\u001b[0;31mNameError\u001b[0m: name 'n' is not defined"
          ]
        }
      ]
    },
    {
      "cell_type": "code",
      "metadata": {
        "id": "JPedN5P9FoSU",
        "colab_type": "code",
        "colab": {},
        "outputId": "1716797a-09f5-4448-82d9-6670965af4e4"
      },
      "source": [
        "4 * 3.75 - 1"
      ],
      "execution_count": 0,
      "outputs": [
        {
          "output_type": "execute_result",
          "data": {
            "text/plain": [
              "14.0"
            ]
          },
          "metadata": {
            "tags": []
          },
          "execution_count": 19
        }
      ]
    },
    {
      "cell_type": "code",
      "metadata": {
        "id": "xO87AfjhFoSc",
        "colab_type": "code",
        "colab": {},
        "outputId": "a5d61349-4cab-4693-fd51-93e37b3a2832"
      },
      "source": [
        "tax = 12.5 / 100\n",
        "price = 100.50\n",
        "price * tax\n",
        "price + _\n",
        "round(_, 2)"
      ],
      "execution_count": 0,
      "outputs": [
        {
          "output_type": "execute_result",
          "data": {
            "text/plain": [
              "14.0"
            ]
          },
          "metadata": {
            "tags": []
          },
          "execution_count": 20
        }
      ]
    },
    {
      "cell_type": "code",
      "metadata": {
        "id": "v3FqPG52FoSg",
        "colab_type": "code",
        "colab": {},
        "outputId": "686b1392-b8cc-4965-f72a-f4add5067aab"
      },
      "source": [
        "tax = 12.5 / 100\n",
        "price = 100.50\n",
        "price * tax"
      ],
      "execution_count": 0,
      "outputs": [
        {
          "output_type": "execute_result",
          "data": {
            "text/plain": [
              "12.5625"
            ]
          },
          "metadata": {
            "tags": []
          },
          "execution_count": 21
        }
      ]
    },
    {
      "cell_type": "code",
      "metadata": {
        "id": "FB09peqLFoSn",
        "colab_type": "code",
        "colab": {},
        "outputId": "ddbd684d-f780-49f4-c6eb-f926753fcc1e"
      },
      "source": [
        "100.50 + _"
      ],
      "execution_count": 0,
      "outputs": [
        {
          "output_type": "execute_result",
          "data": {
            "text/plain": [
              "113.0625"
            ]
          },
          "metadata": {
            "tags": []
          },
          "execution_count": 22
        }
      ]
    },
    {
      "cell_type": "code",
      "metadata": {
        "id": "_fpydMHEFoSt",
        "colab_type": "code",
        "colab": {},
        "outputId": "6b80e3dc-faae-4799-e984-89e7485423fe"
      },
      "source": [
        "tax = 12.5 / 100\n",
        "price = 100.50\n",
        "price * tax\n",
        "price + _\n",
        "round( _ , 2 )"
      ],
      "execution_count": 0,
      "outputs": [
        {
          "output_type": "execute_result",
          "data": {
            "text/plain": [
              "113.06"
            ]
          },
          "metadata": {
            "tags": []
          },
          "execution_count": 23
        }
      ]
    },
    {
      "cell_type": "code",
      "metadata": {
        "id": "E2UwvFF4FoSw",
        "colab_type": "code",
        "colab": {},
        "outputId": "7c1739e0-94b4-4eb8-e1a3-ff45a537c837"
      },
      "source": [
        "'spam eggs' # single quotes"
      ],
      "execution_count": 0,
      "outputs": [
        {
          "output_type": "execute_result",
          "data": {
            "text/plain": [
              "'spam eggs'"
            ]
          },
          "metadata": {
            "tags": []
          },
          "execution_count": 24
        }
      ]
    },
    {
      "cell_type": "code",
      "metadata": {
        "id": "0Hy3184eFoS2",
        "colab_type": "code",
        "colab": {},
        "outputId": "eec7f1e9-70e3-4208-8d47-fdea4ae57b45"
      },
      "source": [
        "'doesn\\' t' # use \\' to escape the single quote.."
      ],
      "execution_count": 0,
      "outputs": [
        {
          "output_type": "execute_result",
          "data": {
            "text/plain": [
              "\"doesn' t\""
            ]
          },
          "metadata": {
            "tags": []
          },
          "execution_count": 25
        }
      ]
    },
    {
      "cell_type": "code",
      "metadata": {
        "id": "dc7OcJooFoS7",
        "colab_type": "code",
        "colab": {},
        "outputId": "38b388a6-1af4-48f4-ff3f-c06433abcd3c"
      },
      "source": [
        "\"doesn't\" #..or use double quotes instead"
      ],
      "execution_count": 0,
      "outputs": [
        {
          "output_type": "execute_result",
          "data": {
            "text/plain": [
              "\"doesn't\""
            ]
          },
          "metadata": {
            "tags": []
          },
          "execution_count": 26
        }
      ]
    },
    {
      "cell_type": "code",
      "metadata": {
        "id": "p7-DZmU5FoS_",
        "colab_type": "code",
        "colab": {},
        "outputId": "676daf35-cf33-48ef-ff35-3d3467bf7872"
      },
      "source": [
        "'\"Yes,\" they said.'"
      ],
      "execution_count": 0,
      "outputs": [
        {
          "output_type": "execute_result",
          "data": {
            "text/plain": [
              "'\"Yes,\" they said.'"
            ]
          },
          "metadata": {
            "tags": []
          },
          "execution_count": 27
        }
      ]
    },
    {
      "cell_type": "code",
      "metadata": {
        "id": "Zl275PRfFoTC",
        "colab_type": "code",
        "colab": {},
        "outputId": "787f5e4f-1c32-4c6d-bd85-144d4f7a5201"
      },
      "source": [
        "\" \\\"Yes, \\\" they said.\""
      ],
      "execution_count": 0,
      "outputs": [
        {
          "output_type": "execute_result",
          "data": {
            "text/plain": [
              "' \"Yes, \" they said.'"
            ]
          },
          "metadata": {
            "tags": []
          },
          "execution_count": 28
        }
      ]
    },
    {
      "cell_type": "code",
      "metadata": {
        "id": "4-gPQfCKFoTG",
        "colab_type": "code",
        "colab": {},
        "outputId": "4c4a73b4-4101-4305-a09a-48a8edd43352"
      },
      "source": [
        "'\"Isn \\' t,\" they said.'"
      ],
      "execution_count": 0,
      "outputs": [
        {
          "output_type": "execute_result",
          "data": {
            "text/plain": [
              "'\"Isn \\' t,\" they said.'"
            ]
          },
          "metadata": {
            "tags": []
          },
          "execution_count": 29
        }
      ]
    },
    {
      "cell_type": "code",
      "metadata": {
        "id": "HuTnSst2FoTL",
        "colab_type": "code",
        "colab": {},
        "outputId": "51383059-23b7-4e79-c320-faa3f1997227"
      },
      "source": [
        "'\"Isn\\'t,\" they said.'"
      ],
      "execution_count": 0,
      "outputs": [
        {
          "output_type": "execute_result",
          "data": {
            "text/plain": [
              "'\"Isn\\'t,\" they said.'"
            ]
          },
          "metadata": {
            "tags": []
          },
          "execution_count": 30
        }
      ]
    },
    {
      "cell_type": "code",
      "metadata": {
        "id": "ZlA13Z4fFoTP",
        "colab_type": "code",
        "colab": {},
        "outputId": "9fa295fd-cb62-4d88-fec1-2b2743c43502"
      },
      "source": [
        "print('\"Isn\\'t,\" they said.')"
      ],
      "execution_count": 0,
      "outputs": [
        {
          "output_type": "stream",
          "text": [
            "\"Isn't,\" they said.\n"
          ],
          "name": "stdout"
        }
      ]
    },
    {
      "cell_type": "code",
      "metadata": {
        "id": "BfBJB4npFoTS",
        "colab_type": "code",
        "colab": {},
        "outputId": "604df1c4-3229-4c90-b318-e20fc5a681eb"
      },
      "source": [
        "s = 'First line.\\nSecond line.' #\\n means new line\n",
        "s #without print(), \\n is included i the output"
      ],
      "execution_count": 0,
      "outputs": [
        {
          "output_type": "execute_result",
          "data": {
            "text/plain": [
              "'First line.\\nSecond line.'"
            ]
          },
          "metadata": {
            "tags": []
          },
          "execution_count": 32
        }
      ]
    },
    {
      "cell_type": "code",
      "metadata": {
        "id": "eTVNtzaVFoTX",
        "colab_type": "code",
        "colab": {},
        "outputId": "c0cfd461-5ae0-42fe-813a-2d3b3df1319c"
      },
      "source": [
        "s = 'First line.\\nSecond line.' #\\n means new line\n",
        "print(s)"
      ],
      "execution_count": 0,
      "outputs": [
        {
          "output_type": "stream",
          "text": [
            "First line.\n",
            "Second line.\n"
          ],
          "name": "stdout"
        }
      ]
    },
    {
      "cell_type": "code",
      "metadata": {
        "scrolled": true,
        "id": "Zv2SfeADFoTc",
        "colab_type": "code",
        "colab": {},
        "outputId": "8f43140b-9a8e-43f8-cf7b-c0c89c4b5b60"
      },
      "source": [
        "print('C:\\some\\name') #here \\n means newlines"
      ],
      "execution_count": 0,
      "outputs": [
        {
          "output_type": "stream",
          "text": [
            "C:\\some\n",
            "ame\n"
          ],
          "name": "stdout"
        }
      ]
    },
    {
      "cell_type": "code",
      "metadata": {
        "id": "gPtyUYWjFoTf",
        "colab_type": "code",
        "colab": {},
        "outputId": "ff5fabf5-f622-4518-a377-eeb8af7eff5f"
      },
      "source": [
        "print(r'C:\\some\\name') #note the r before the quotes"
      ],
      "execution_count": 0,
      "outputs": [
        {
          "output_type": "stream",
          "text": [
            "C:\\some\\name\n"
          ],
          "name": "stdout"
        }
      ]
    },
    {
      "cell_type": "code",
      "metadata": {
        "id": "r2SlxzVFFoTi",
        "colab_type": "code",
        "colab": {},
        "outputId": "a21daf89-940d-42d3-8bfd-9e176ca0e766"
      },
      "source": [
        "print(\"\"\"\\\n",
        "Usage: thingy [OPTIONS]\n",
        "     -h                     Display this usage message\n",
        "     -H hostname            Hostname to connect to\n",
        "\"\"\")"
      ],
      "execution_count": 0,
      "outputs": [
        {
          "output_type": "stream",
          "text": [
            "Usage: thingy [OPTIONS]\n",
            "     -h                     Display this usage message\n",
            "     -H hostname            Hostname to connect to\n",
            "\n"
          ],
          "name": "stdout"
        }
      ]
    },
    {
      "cell_type": "code",
      "metadata": {
        "id": "ioidCGVBFoTm",
        "colab_type": "code",
        "colab": {},
        "outputId": "9579446a-a94e-4613-9b8c-8c7532110765"
      },
      "source": [
        "# 3 times 'un', followed by 'ium'\n",
        "3 * 'un' + 'ium'"
      ],
      "execution_count": 0,
      "outputs": [
        {
          "output_type": "execute_result",
          "data": {
            "text/plain": [
              "'unununium'"
            ]
          },
          "metadata": {
            "tags": []
          },
          "execution_count": 37
        }
      ]
    },
    {
      "cell_type": "code",
      "metadata": {
        "id": "eufg7vkvFoTq",
        "colab_type": "code",
        "colab": {},
        "outputId": "31856abd-d259-44de-9f2a-f759704370de"
      },
      "source": [
        "'Py','thon'"
      ],
      "execution_count": 0,
      "outputs": [
        {
          "output_type": "execute_result",
          "data": {
            "text/plain": [
              "('Py', 'thon')"
            ]
          },
          "metadata": {
            "tags": []
          },
          "execution_count": 38
        }
      ]
    },
    {
      "cell_type": "code",
      "metadata": {
        "id": "pC1bUK3JFoTs",
        "colab_type": "code",
        "colab": {},
        "outputId": "5aaa7ff7-be3e-4b8d-b2ea-4a2920e83b6d"
      },
      "source": [
        "text = ('Put several strings within parenthese '\n",
        "       'to have them joined together.')\n",
        "text"
      ],
      "execution_count": 0,
      "outputs": [
        {
          "output_type": "execute_result",
          "data": {
            "text/plain": [
              "'Put several strings within parenthese to have them joined together.'"
            ]
          },
          "metadata": {
            "tags": []
          },
          "execution_count": 39
        }
      ]
    },
    {
      "cell_type": "code",
      "metadata": {
        "id": "oQO84WiQFoTw",
        "colab_type": "code",
        "colab": {},
        "outputId": "69563884-486c-4791-9fa0-7156c7369eab"
      },
      "source": [
        "('un' * 3) 'ium'"
      ],
      "execution_count": 0,
      "outputs": [
        {
          "output_type": "error",
          "ename": "SyntaxError",
          "evalue": "invalid syntax (<ipython-input-40-f4764cbe42a8>, line 1)",
          "traceback": [
            "\u001b[0;36m  File \u001b[0;32m\"<ipython-input-40-f4764cbe42a8>\"\u001b[0;36m, line \u001b[0;32m1\u001b[0m\n\u001b[0;31m    ('un' * 3) 'ium'\u001b[0m\n\u001b[0m                   ^\u001b[0m\n\u001b[0;31mSyntaxError\u001b[0m\u001b[0;31m:\u001b[0m invalid syntax\n"
          ]
        }
      ]
    },
    {
      "cell_type": "code",
      "metadata": {
        "id": "kboZnoQfFoT0",
        "colab_type": "code",
        "colab": {}
      },
      "source": [
        "prefix = 'Py'\n",
        "prefix = 'Py'"
      ],
      "execution_count": 0,
      "outputs": []
    },
    {
      "cell_type": "code",
      "metadata": {
        "id": "zz8Vz6oaFoT3",
        "colab_type": "code",
        "colab": {},
        "outputId": "8a1db511-d218-4f1e-bdc4-1fbb07188250"
      },
      "source": [
        "prefix = 'Py'\n",
        "prefix + 'thon'"
      ],
      "execution_count": 0,
      "outputs": [
        {
          "output_type": "execute_result",
          "data": {
            "text/plain": [
              "'Python'"
            ]
          },
          "metadata": {
            "tags": []
          },
          "execution_count": 42
        }
      ]
    },
    {
      "cell_type": "code",
      "metadata": {
        "id": "w9vHOBpHFoT8",
        "colab_type": "code",
        "colab": {},
        "outputId": "7ec21d00-8ed7-4ec1-a416-304e7546b191"
      },
      "source": [
        "word = 'Python'\n",
        "word[0]  # character in position 0\n",
        "word[5]  # character in position 5"
      ],
      "execution_count": 0,
      "outputs": [
        {
          "output_type": "execute_result",
          "data": {
            "text/plain": [
              "'n'"
            ]
          },
          "metadata": {
            "tags": []
          },
          "execution_count": 43
        }
      ]
    },
    {
      "cell_type": "code",
      "metadata": {
        "id": "gCb2Oy70FoUC",
        "colab_type": "code",
        "colab": {},
        "outputId": "67b59aeb-3404-4333-a674-a065acc59b5a"
      },
      "source": [
        "word = 'Python'\n",
        "word[0]  # character in position 0"
      ],
      "execution_count": 0,
      "outputs": [
        {
          "output_type": "execute_result",
          "data": {
            "text/plain": [
              "'P'"
            ]
          },
          "metadata": {
            "tags": []
          },
          "execution_count": 44
        }
      ]
    },
    {
      "cell_type": "code",
      "metadata": {
        "id": "wzGR0F5BFoUF",
        "colab_type": "code",
        "colab": {},
        "outputId": "2a2015a4-45b1-4898-c6e6-08d219725b64"
      },
      "source": [
        "word = 'Python'\n",
        "word[-2]"
      ],
      "execution_count": 0,
      "outputs": [
        {
          "output_type": "execute_result",
          "data": {
            "text/plain": [
              "'o'"
            ]
          },
          "metadata": {
            "tags": []
          },
          "execution_count": 45
        }
      ]
    },
    {
      "cell_type": "code",
      "metadata": {
        "id": "LciPT2rrFoUJ",
        "colab_type": "code",
        "colab": {},
        "outputId": "b6a71ea1-857b-467b-b005-0b7ecad1cbba"
      },
      "source": [
        "word = 'Python'\n",
        "word[2:5]"
      ],
      "execution_count": 0,
      "outputs": [
        {
          "output_type": "execute_result",
          "data": {
            "text/plain": [
              "'tho'"
            ]
          },
          "metadata": {
            "tags": []
          },
          "execution_count": 46
        }
      ]
    },
    {
      "cell_type": "code",
      "metadata": {
        "id": "Of_5vvdlFoUM",
        "colab_type": "code",
        "colab": {},
        "outputId": "10c7e273-b188-42cb-96b0-ce1b59a244fa"
      },
      "source": [
        "word = 'Python'\n",
        "word[0:2]"
      ],
      "execution_count": 0,
      "outputs": [
        {
          "output_type": "execute_result",
          "data": {
            "text/plain": [
              "'Py'"
            ]
          },
          "metadata": {
            "tags": []
          },
          "execution_count": 47
        }
      ]
    },
    {
      "cell_type": "code",
      "metadata": {
        "id": "e7pxFfs8FoUQ",
        "colab_type": "code",
        "colab": {},
        "outputId": "cfe10649-cf15-43f9-caf8-0ae2e6da95ac"
      },
      "source": [
        "word = 'Python'\n",
        "word[:2] + word[2:]"
      ],
      "execution_count": 0,
      "outputs": [
        {
          "output_type": "execute_result",
          "data": {
            "text/plain": [
              "'Python'"
            ]
          },
          "metadata": {
            "tags": []
          },
          "execution_count": 48
        }
      ]
    },
    {
      "cell_type": "code",
      "metadata": {
        "id": "q9AOFlxhFoUU",
        "colab_type": "code",
        "colab": {},
        "outputId": "cfd60457-25e0-4158-9e41-c863bcaa4003"
      },
      "source": [
        "word = 'Python'\n",
        "word[:2]"
      ],
      "execution_count": 0,
      "outputs": [
        {
          "output_type": "execute_result",
          "data": {
            "text/plain": [
              "'Py'"
            ]
          },
          "metadata": {
            "tags": []
          },
          "execution_count": 49
        }
      ]
    },
    {
      "cell_type": "code",
      "metadata": {
        "id": "iqlzofc_FoUY",
        "colab_type": "code",
        "colab": {},
        "outputId": "40b39755-89e2-46cd-a964-8d1113876ce4"
      },
      "source": [
        "word = 'Python'\n",
        "word[2:]"
      ],
      "execution_count": 0,
      "outputs": [
        {
          "output_type": "execute_result",
          "data": {
            "text/plain": [
              "'thon'"
            ]
          },
          "metadata": {
            "tags": []
          },
          "execution_count": 50
        }
      ]
    },
    {
      "cell_type": "code",
      "metadata": {
        "id": "ifbznlRLFoUb",
        "colab_type": "code",
        "colab": {},
        "outputId": "f8515269-57bd-4315-fa28-2815a80e0a3f"
      },
      "source": [
        "word = 'Python'\n",
        "word[-2:]"
      ],
      "execution_count": 0,
      "outputs": [
        {
          "output_type": "execute_result",
          "data": {
            "text/plain": [
              "'on'"
            ]
          },
          "metadata": {
            "tags": []
          },
          "execution_count": 51
        }
      ]
    },
    {
      "cell_type": "code",
      "metadata": {
        "id": "s-4pAr9uFoUe",
        "colab_type": "code",
        "colab": {},
        "outputId": "5d78593b-112a-4c92-d43f-a101de78ae52"
      },
      "source": [
        "word = 'Python'\n",
        "word[42:]"
      ],
      "execution_count": 0,
      "outputs": [
        {
          "output_type": "execute_result",
          "data": {
            "text/plain": [
              "''"
            ]
          },
          "metadata": {
            "tags": []
          },
          "execution_count": 53
        }
      ]
    },
    {
      "cell_type": "code",
      "metadata": {
        "id": "JYn4JTclFoUh",
        "colab_type": "code",
        "colab": {},
        "outputId": "ed4db95a-7d40-4078-e9a9-09b9dd697f36"
      },
      "source": [
        "word = 'Python'\n",
        "word[:2] + 'py'"
      ],
      "execution_count": 0,
      "outputs": [
        {
          "output_type": "execute_result",
          "data": {
            "text/plain": [
              "'Pypy'"
            ]
          },
          "metadata": {
            "tags": []
          },
          "execution_count": 56
        }
      ]
    },
    {
      "cell_type": "code",
      "metadata": {
        "id": "kpjfRpG1FoUk",
        "colab_type": "code",
        "colab": {},
        "outputId": "bb3cd0d4-7c6e-4a3e-c1db-49af0b1aefae"
      },
      "source": [
        "s = 'supercalifragilisticexpialidocious'\n",
        "len(s)"
      ],
      "execution_count": 0,
      "outputs": [
        {
          "output_type": "execute_result",
          "data": {
            "text/plain": [
              "34"
            ]
          },
          "metadata": {
            "tags": []
          },
          "execution_count": 57
        }
      ]
    },
    {
      "cell_type": "code",
      "metadata": {
        "id": "pV23nAibFoUn",
        "colab_type": "code",
        "colab": {},
        "outputId": "556420c6-9225-4853-ef54-d5e93974e51a"
      },
      "source": [
        "squares = [1, 4, 9, 16, 25]\n",
        "squares + [36, 49, 64, 81, 100]"
      ],
      "execution_count": 0,
      "outputs": [
        {
          "output_type": "execute_result",
          "data": {
            "text/plain": [
              "[1, 4, 9, 16, 25, 36, 49, 64, 81, 100]"
            ]
          },
          "metadata": {
            "tags": []
          },
          "execution_count": 63
        }
      ]
    },
    {
      "cell_type": "code",
      "metadata": {
        "id": "BYhzMaTNFoUp",
        "colab_type": "code",
        "colab": {},
        "outputId": "1e7debaa-5e8e-48bf-d2ef-5fb1aa4dc193"
      },
      "source": [
        "cubes = [1, 8, 27, 65, 125]\n",
        "cubes[3] = 64\n",
        "cubes"
      ],
      "execution_count": 0,
      "outputs": [
        {
          "output_type": "execute_result",
          "data": {
            "text/plain": [
              "[1, 8, 27, 64, 125]"
            ]
          },
          "metadata": {
            "tags": []
          },
          "execution_count": 65
        }
      ]
    },
    {
      "cell_type": "code",
      "metadata": {
        "id": "43mcCGGOFoUt",
        "colab_type": "code",
        "colab": {},
        "outputId": "9574af15-7af7-45ad-d499-d2bf45e61c1b"
      },
      "source": [
        "cubes = [1, 8, 27, 65, 125]\n",
        "cubes.append(216)\n",
        "cubes.append(7 ** 3)\n",
        "cubes"
      ],
      "execution_count": 0,
      "outputs": [
        {
          "output_type": "execute_result",
          "data": {
            "text/plain": [
              "[1, 8, 27, 65, 125, 216, 343]"
            ]
          },
          "metadata": {
            "tags": []
          },
          "execution_count": 66
        }
      ]
    },
    {
      "cell_type": "code",
      "metadata": {
        "id": "IUOtppuPFoUv",
        "colab_type": "code",
        "colab": {},
        "outputId": "55a9dc9f-9beb-4cbc-b45b-69d12b89dbd5"
      },
      "source": [
        "letters = ['a', 'b', 'c', 'd', 'e', 'f', 'g']\n",
        "letters[:] = []\n",
        "letters"
      ],
      "execution_count": 0,
      "outputs": [
        {
          "output_type": "execute_result",
          "data": {
            "text/plain": [
              "[]"
            ]
          },
          "metadata": {
            "tags": []
          },
          "execution_count": 71
        }
      ]
    },
    {
      "cell_type": "code",
      "metadata": {
        "id": "IObtTkb_FoU0",
        "colab_type": "code",
        "colab": {},
        "outputId": "a4e03eb6-40fd-4a64-bc3d-12320830fee8"
      },
      "source": [
        "letters = ['a', 'b', 'c', 'd']\n",
        "len(letters)"
      ],
      "execution_count": 0,
      "outputs": [
        {
          "output_type": "execute_result",
          "data": {
            "text/plain": [
              "4"
            ]
          },
          "metadata": {
            "tags": []
          },
          "execution_count": 72
        }
      ]
    },
    {
      "cell_type": "code",
      "metadata": {
        "id": "FDKeGk97FoU6",
        "colab_type": "code",
        "colab": {},
        "outputId": "0c33d6a8-a560-41e1-dcbf-f5e115635306"
      },
      "source": [
        "a = ['a', 'b', 'c']\n",
        "n = [1, 2, 3]\n",
        "x = [a, n]\n",
        "x[1][2]"
      ],
      "execution_count": 0,
      "outputs": [
        {
          "output_type": "execute_result",
          "data": {
            "text/plain": [
              "3"
            ]
          },
          "metadata": {
            "tags": []
          },
          "execution_count": 76
        }
      ]
    },
    {
      "cell_type": "code",
      "metadata": {
        "id": "2c89qAKBFoU-",
        "colab_type": "code",
        "colab": {},
        "outputId": "ab6b15a0-a8f3-4618-b555-cd85d2eb0411"
      },
      "source": [
        "# Fibonacci series:\n",
        "# the sum of two elements defines the next\n",
        "a, b = 0, 1\n",
        "while a < 10:\n",
        "    print(a)\n",
        "    a,b = b, a+b"
      ],
      "execution_count": 0,
      "outputs": [
        {
          "output_type": "stream",
          "text": [
            "0\n",
            "1\n",
            "1\n",
            "2\n",
            "3\n",
            "5\n",
            "8\n"
          ],
          "name": "stdout"
        }
      ]
    },
    {
      "cell_type": "code",
      "metadata": {
        "id": "4brl3QZtFoVA",
        "colab_type": "code",
        "colab": {},
        "outputId": "46c2ce04-29ba-47f0-efdb-eacd14081860"
      },
      "source": [
        "i = 256*256\n",
        "print('The value of i is', i)"
      ],
      "execution_count": 0,
      "outputs": [
        {
          "output_type": "stream",
          "text": [
            "The value of i is 65536\n"
          ],
          "name": "stdout"
        }
      ]
    },
    {
      "cell_type": "code",
      "metadata": {
        "id": "ryNr1d6FFoVN",
        "colab_type": "code",
        "colab": {},
        "outputId": "70e5dc0d-f511-40cf-c7de-0a2e42d1ece0"
      },
      "source": [
        "i = 256 * 256\n",
        "print ( 'The value of i is' , i )"
      ],
      "execution_count": 0,
      "outputs": [
        {
          "output_type": "stream",
          "text": [
            "The value of i is 65536\n"
          ],
          "name": "stdout"
        }
      ]
    },
    {
      "cell_type": "code",
      "metadata": {
        "id": "md32TfB9FoVQ",
        "colab_type": "code",
        "colab": {},
        "outputId": "6645feb3-476d-4ee3-898e-9377a11f731c"
      },
      "source": [
        "a, b = 0, 1\n",
        "while a < 1000:\n",
        "    print(a, end=',')\n",
        "    a, b = b, a+b"
      ],
      "execution_count": 0,
      "outputs": [
        {
          "output_type": "stream",
          "text": [
            "0,1,1,2,3,5,8,13,21,34,55,89,144,233,377,610,987,"
          ],
          "name": "stdout"
        }
      ]
    },
    {
      "cell_type": "code",
      "metadata": {
        "id": "gJh90OISFoVS",
        "colab_type": "code",
        "colab": {},
        "outputId": "cfaeb3ff-3361-41d5-a50e-e3d49b103705"
      },
      "source": [
        "x = int(input(\"Please enter an integer: \"))"
      ],
      "execution_count": 0,
      "outputs": [
        {
          "output_type": "stream",
          "text": [
            "Please enter an integer: 42\n"
          ],
          "name": "stdout"
        }
      ]
    },
    {
      "cell_type": "code",
      "metadata": {
        "id": "E9FRIFBlFoVV",
        "colab_type": "code",
        "colab": {},
        "outputId": "609e6188-7100-449d-aaee-55ceb60bcb74"
      },
      "source": [
        "x = int(input(\"Please enter an integer: \"))\n",
        "if x < 0:\n",
        "    x = 0\n",
        "    print('Negative changed to zero')\n",
        "elif x == 0:\n",
        "    print('Zero')\n",
        "elif x == 1:\n",
        "    print('Single')\n",
        "else:\n",
        "    print('More')"
      ],
      "execution_count": 0,
      "outputs": [
        {
          "output_type": "stream",
          "text": [
            "Please enter an integer: -3\n",
            "Negative changed to zero\n"
          ],
          "name": "stdout"
        }
      ]
    },
    {
      "cell_type": "code",
      "metadata": {
        "id": "gcOG4cNiFoVX",
        "colab_type": "code",
        "colab": {},
        "outputId": "f29dd49f-da59-4d13-a087-90df40ce894f"
      },
      "source": [
        "# Measure some strings:\n",
        "words = ['cat', 'window', 'defenestrate']\n",
        "for w in words:\n",
        "    print(w, len(w))"
      ],
      "execution_count": 0,
      "outputs": [
        {
          "output_type": "stream",
          "text": [
            "cat 3\n",
            "window 6\n",
            "defenestrate 12\n"
          ],
          "name": "stdout"
        }
      ]
    },
    {
      "cell_type": "code",
      "metadata": {
        "id": "qk94AR1EFoVZ",
        "colab_type": "code",
        "colab": {},
        "outputId": "4d50c0c2-9084-4da8-af3f-2a592c2a9957"
      },
      "source": [
        "words = ['cat', 'window', 'defenestrate']\n",
        "for w in words[:]:  # Loop over a slice copy of the entire list.\n",
        "    if len(w) > 6:\n",
        "        words.insert(0, w)\n",
        "words"
      ],
      "execution_count": 0,
      "outputs": [
        {
          "output_type": "execute_result",
          "data": {
            "text/plain": [
              "['defenestrate', 'cat', 'window', 'defenestrate']"
            ]
          },
          "metadata": {
            "tags": []
          },
          "execution_count": 87
        }
      ]
    },
    {
      "cell_type": "code",
      "metadata": {
        "id": "s8AUcZxkFoVb",
        "colab_type": "code",
        "colab": {},
        "outputId": "2986a2fa-eed5-4f09-840f-d3f348a676b1"
      },
      "source": [
        "for i in range(-10, -100, -30):\n",
        "    print(i)"
      ],
      "execution_count": 0,
      "outputs": [
        {
          "output_type": "stream",
          "text": [
            "-10\n",
            "-40\n",
            "-70\n"
          ],
          "name": "stdout"
        }
      ]
    },
    {
      "cell_type": "code",
      "metadata": {
        "scrolled": true,
        "id": "Iwvboc8hFoVf",
        "colab_type": "code",
        "colab": {},
        "outputId": "5880b306-d0e6-477b-d9a6-56cf6d5d7c23"
      },
      "source": [
        "a = ['Mary', 'had', 'a', 'little', 'lamb']\n",
        "for i in range(len(a)):\n",
        "    print(i, a[i])"
      ],
      "execution_count": 0,
      "outputs": [
        {
          "output_type": "stream",
          "text": [
            "0 Mary\n",
            "1 had\n",
            "2 a\n",
            "3 little\n",
            "4 lamb\n"
          ],
          "name": "stdout"
        }
      ]
    },
    {
      "cell_type": "code",
      "metadata": {
        "id": "uDNHLPjDFoVi",
        "colab_type": "code",
        "colab": {},
        "outputId": "48577529-b69d-458b-c9c7-b92228acefc8"
      },
      "source": [
        "print(range(10))"
      ],
      "execution_count": 0,
      "outputs": [
        {
          "output_type": "stream",
          "text": [
            "range(0, 10)\n"
          ],
          "name": "stdout"
        }
      ]
    },
    {
      "cell_type": "code",
      "metadata": {
        "id": "JUpfsoIEFoVm",
        "colab_type": "code",
        "colab": {},
        "outputId": "c16b77a2-6435-4e36-b421-9f9f1a02e816"
      },
      "source": [
        "list(range(5))"
      ],
      "execution_count": 0,
      "outputs": [
        {
          "output_type": "execute_result",
          "data": {
            "text/plain": [
              "[0, 1, 2, 3, 4]"
            ]
          },
          "metadata": {
            "tags": []
          },
          "execution_count": 94
        }
      ]
    },
    {
      "cell_type": "code",
      "metadata": {
        "id": "WT4w03onFoVo",
        "colab_type": "code",
        "colab": {},
        "outputId": "8ae182fd-21c5-481e-b112-d371f2c69794"
      },
      "source": [
        "for n in range(2, 10):\n",
        "    for x in range(2, n):\n",
        "        if n % x == 0:\n",
        "            print(n, 'equals', x, '*', n//x)\n",
        "            break\n",
        "        else:\n",
        "            # loop fell through without finding a factor\n",
        "            print(n, 'is a prime number')"
      ],
      "execution_count": 0,
      "outputs": [
        {
          "output_type": "stream",
          "text": [
            "3 is a prime number\n",
            "4 equals 2 * 2\n",
            "5 is a prime number\n",
            "5 is a prime number\n",
            "5 is a prime number\n",
            "6 equals 2 * 3\n",
            "7 is a prime number\n",
            "7 is a prime number\n",
            "7 is a prime number\n",
            "7 is a prime number\n",
            "7 is a prime number\n",
            "8 equals 2 * 4\n",
            "9 is a prime number\n",
            "9 equals 3 * 3\n"
          ],
          "name": "stdout"
        }
      ]
    },
    {
      "cell_type": "code",
      "metadata": {
        "id": "REuFedg0FoVr",
        "colab_type": "code",
        "colab": {},
        "outputId": "27a36173-3b2d-4fea-fb68-7ef544624a9c"
      },
      "source": [
        "for num in range(2, 10):\n",
        "    if num % 2 == 0:\n",
        "        print(\"Found an even number\", num)\n",
        "        continue\n",
        "    print(\"Found a number\", num)"
      ],
      "execution_count": 0,
      "outputs": [
        {
          "output_type": "stream",
          "text": [
            "Found an even number 2\n",
            "Found a number 3\n",
            "Found an even number 4\n",
            "Found a number 5\n",
            "Found an even number 6\n",
            "Found a number 7\n",
            "Found an even number 8\n",
            "Found a number 9\n"
          ],
          "name": "stdout"
        }
      ]
    },
    {
      "cell_type": "code",
      "metadata": {
        "id": "41U0qc1yFoVt",
        "colab_type": "code",
        "colab": {}
      },
      "source": [
        "def initlog(*args):\n",
        "    pass   # Remember to implement this!"
      ],
      "execution_count": 0,
      "outputs": []
    },
    {
      "cell_type": "code",
      "metadata": {
        "id": "7yedMPQXFoVv",
        "colab_type": "code",
        "colab": {},
        "outputId": "cfebf3fd-7b25-4af1-d42b-38dc5bc8eed0"
      },
      "source": [
        "def fib(n):    # write Fibonacci series up to n\n",
        "    \"\"\"Print a Fibonacci series up to n.\"\"\"\n",
        "    a, b = 0, 1\n",
        "    while a < n:\n",
        "        print(a, end=' ')\n",
        "        a, b = b, a + b\n",
        "    print()\n",
        "    \n",
        "# Now call the function we just defined:\n",
        "fib(2000)"
      ],
      "execution_count": 0,
      "outputs": [
        {
          "output_type": "stream",
          "text": [
            "0 1 1 2 3 5 8 13 21 34 55 89 144 233 377 610 987 1597 \n"
          ],
          "name": "stdout"
        }
      ]
    },
    {
      "cell_type": "code",
      "metadata": {
        "id": "yhMM6ZKTFoVy",
        "colab_type": "code",
        "colab": {},
        "outputId": "ddbe8617-c6f3-466e-b229-f86ea6dc3cb7"
      },
      "source": [
        "fib\n",
        "f = fib\n",
        "f(100)"
      ],
      "execution_count": 0,
      "outputs": [
        {
          "output_type": "stream",
          "text": [
            "0 1 1 2 3 5 8 13 21 34 55 89 \n"
          ],
          "name": "stdout"
        }
      ]
    },
    {
      "cell_type": "code",
      "metadata": {
        "id": "WzTkhqoTFoV4",
        "colab_type": "code",
        "colab": {},
        "outputId": "5c25d3a5-5f5f-4fc4-ec70-b988622f854a"
      },
      "source": [
        "fib(0)\n",
        "print(fib(0))"
      ],
      "execution_count": 0,
      "outputs": [
        {
          "output_type": "stream",
          "text": [
            "\n",
            "\n",
            "None\n"
          ],
          "name": "stdout"
        }
      ]
    },
    {
      "cell_type": "code",
      "metadata": {
        "id": "xLlAgJL_FoV7",
        "colab_type": "code",
        "colab": {},
        "outputId": "1e05832c-7e20-498f-e81d-e3692b5a21af"
      },
      "source": [
        "def fib2(n):  # return Fibonacci series up to n\n",
        "    \"\"\"Return a list containing the Fibonacci series up to n.\"\"\"\n",
        "    result = []\n",
        "    a, b = 0, 1\n",
        "    while a < n:\n",
        "        result.append(a)    # see below\n",
        "        a, b = b, a+b\n",
        "    return result\n",
        "f100 = fib2(100)    # call it\n",
        "f100                # write the result"
      ],
      "execution_count": 0,
      "outputs": [
        {
          "output_type": "execute_result",
          "data": {
            "text/plain": [
              "[0, 1, 1, 2, 3, 5, 8, 13, 21, 34, 55, 89]"
            ]
          },
          "metadata": {
            "tags": []
          },
          "execution_count": 104
        }
      ]
    },
    {
      "cell_type": "code",
      "metadata": {
        "id": "I5sP8y2hFoV9",
        "colab_type": "code",
        "colab": {}
      },
      "source": [
        "def ask_ok(prompt, retries=4, reminder='Please try again!'):\n",
        "    while True:\n",
        "        ok = input(prompt)\n",
        "        if ok in ('y', 'ye', 'yes'):\n",
        "            return True\n",
        "        if ok in ('n', 'no', 'nop', 'nope'):\n",
        "            return False\n",
        "        retries = retries - 1\n",
        "        if retries < 0:\n",
        "            raise ValueError('invalid user response')\n",
        "        print(reminder)"
      ],
      "execution_count": 0,
      "outputs": []
    },
    {
      "cell_type": "code",
      "metadata": {
        "id": "e9FNPkhSFoV_",
        "colab_type": "code",
        "colab": {},
        "outputId": "85a0f293-06da-400b-83a8-e594a9d39946"
      },
      "source": [
        "i = 5\n",
        "\n",
        "\n",
        "def f(arg=i):\n",
        "    print(arg)\n",
        "    \n",
        "i = 6\n",
        "f()"
      ],
      "execution_count": 0,
      "outputs": [
        {
          "output_type": "stream",
          "text": [
            "5\n"
          ],
          "name": "stdout"
        }
      ]
    },
    {
      "cell_type": "code",
      "metadata": {
        "id": "eRuRB5KJFoWB",
        "colab_type": "code",
        "colab": {},
        "outputId": "8bccb024-441a-47a6-ef08-bc4dac695583"
      },
      "source": [
        "def f(a, L=[]):\n",
        "    L.append(a)\n",
        "    return L\n",
        "print(f(1))\n",
        "print(f(2))\n",
        "print(f(3))\n"
      ],
      "execution_count": 0,
      "outputs": [
        {
          "output_type": "stream",
          "text": [
            "[1]\n",
            "[1, 2]\n",
            "[1, 2, 3]\n"
          ],
          "name": "stdout"
        }
      ]
    },
    {
      "cell_type": "code",
      "metadata": {
        "id": "G2huFZulFoWD",
        "colab_type": "code",
        "colab": {},
        "outputId": "70e40923-68e0-4d65-dbca-94f42f28bc34"
      },
      "source": [
        "def f(a, L=None):\n",
        "    if L is None:\n",
        "        L = []\n",
        "    L.append(a)\n",
        "    return L\n",
        "print(f(1))\n",
        "print(f(2))\n",
        "print(f(3))\n"
      ],
      "execution_count": 0,
      "outputs": [
        {
          "output_type": "stream",
          "text": [
            "[1]\n",
            "[2]\n",
            "[3]\n"
          ],
          "name": "stdout"
        }
      ]
    },
    {
      "cell_type": "code",
      "metadata": {
        "id": "CjUbN8O1FoWJ",
        "colab_type": "code",
        "colab": {}
      },
      "source": [
        "parrot(voltage, state='a stiff', action='voom', type='Norwegian Blue'):\n",
        "    print(\"-- This parrot wouldn't\", action, end=' ')\n",
        "    print(\"if you put\", voltage, \"volts through it.\")\n",
        "    print(\"-- Lovely plumage, the\", type)\n",
        "    print(\"-- It's\", state, \"!\")"
      ],
      "execution_count": 0,
      "outputs": []
    },
    {
      "cell_type": "code",
      "metadata": {
        "id": "2kJqjv4VFoWL",
        "colab_type": "code",
        "colab": {}
      },
      "source": [
        "def cheeseshop(kind, *arguments, **keywords):\n",
        "    print(\"-- Do you have any\", kind, \"?\")\n",
        "    print(\"-- I'm sorry, we're all out of\", kind)\n",
        "    for arg in arguments:\n",
        "        print(arg)\n",
        "    print(\"-\" * 40)\n",
        "    for kw in keywords:\n",
        "        print(kw, \":\", keywords[kw])"
      ],
      "execution_count": 0,
      "outputs": []
    },
    {
      "cell_type": "code",
      "metadata": {
        "id": "xwKpMrkyFoWN",
        "colab_type": "code",
        "colab": {},
        "outputId": "f02eff3e-a37c-4b51-da65-e1a0b178d311"
      },
      "source": [
        "def concat(*args, sep=\"/\"):\n",
        "    return sep.join(args)\n",
        "concat(\"earth\", \"mars\", \"venus\", sep=\".\")"
      ],
      "execution_count": 0,
      "outputs": [
        {
          "output_type": "execute_result",
          "data": {
            "text/plain": [
              "'earth.mars.venus'"
            ]
          },
          "metadata": {
            "tags": []
          },
          "execution_count": 117
        }
      ]
    },
    {
      "cell_type": "code",
      "metadata": {
        "id": "J2titDhdFoWO",
        "colab_type": "code",
        "colab": {},
        "outputId": "722c0185-fa62-4dec-c551-d81e16e38579"
      },
      "source": [
        "list(range(3, 6))\n",
        "args = [3, 6]\n",
        "list(range(*args)) "
      ],
      "execution_count": 0,
      "outputs": [
        {
          "output_type": "execute_result",
          "data": {
            "text/plain": [
              "[3, 4, 5]"
            ]
          },
          "metadata": {
            "tags": []
          },
          "execution_count": 119
        }
      ]
    },
    {
      "cell_type": "code",
      "metadata": {
        "id": "pGUed68DFoWR",
        "colab_type": "code",
        "colab": {},
        "outputId": "9f9c251f-1007-4287-d0b1-322ff85c54a6"
      },
      "source": [
        "def parrot(voltage, state='a stiff', action='voom'):\n",
        "    print(\"-- This parrot wouldn't\", action, end=' ')\n",
        "    print(\"if you put\", voltage, \"volts through it.\", end=' ')\n",
        "    print(\"E's\", state, \"!\")\n",
        "    \n",
        "d = {\"voltage\": \"four million\", \"state\": \"bleedin' demised\", \"action\": \"VOOM\"}\n",
        "parrot(**d)"
      ],
      "execution_count": 0,
      "outputs": [
        {
          "output_type": "stream",
          "text": [
            "-- This parrot wouldn't VOOM if you put four million volts through it. E's bleedin' demised !\n"
          ],
          "name": "stdout"
        }
      ]
    },
    {
      "cell_type": "code",
      "metadata": {
        "id": "_9xvgIdeFoWT",
        "colab_type": "code",
        "colab": {},
        "outputId": "c49f7c44-73b6-4c8a-e55f-54f74d873e3d"
      },
      "source": [
        "def make_incrementor(n):\n",
        "    return lambda x: x + n\n",
        "f = make_incrementor(42)\n",
        "f(2)"
      ],
      "execution_count": 0,
      "outputs": [
        {
          "output_type": "execute_result",
          "data": {
            "text/plain": [
              "44"
            ]
          },
          "metadata": {
            "tags": []
          },
          "execution_count": 122
        }
      ]
    },
    {
      "cell_type": "code",
      "metadata": {
        "id": "ZO0MyMYJFoWV",
        "colab_type": "code",
        "colab": {},
        "outputId": "d9dd80c8-f4ea-45ff-d485-da2cceb2ef96"
      },
      "source": [
        "pairs = [(1, 'one'), (2, 'two'), (3, 'three'), (4, 'four')]\n",
        "pairs.sort(key=lambda pair: pair[1])\n",
        "pairs"
      ],
      "execution_count": 0,
      "outputs": [
        {
          "output_type": "execute_result",
          "data": {
            "text/plain": [
              "[(4, 'four'), (1, 'one'), (3, 'three'), (2, 'two')]"
            ]
          },
          "metadata": {
            "tags": []
          },
          "execution_count": 123
        }
      ]
    },
    {
      "cell_type": "code",
      "metadata": {
        "id": "SigOSsJ_FoWZ",
        "colab_type": "code",
        "colab": {},
        "outputId": "fe18d024-e51c-41bf-ee47-5c96406fa2c5"
      },
      "source": [
        "def my_function():\n",
        "    \"\"\"Do nothing, but document it.\n",
        "    \n",
        "    No, really, it doesn't do anything.\n",
        "    \"\"\"\n",
        "    pass\n",
        "print(my_function.__doc__)"
      ],
      "execution_count": 0,
      "outputs": [
        {
          "output_type": "stream",
          "text": [
            "Do nothing, but document it.\n",
            "    \n",
            "    No, really, it doesn't do anything.\n",
            "    \n"
          ],
          "name": "stdout"
        }
      ]
    },
    {
      "cell_type": "code",
      "metadata": {
        "id": "PqhlEOFqFoWf",
        "colab_type": "code",
        "colab": {},
        "outputId": "d6763578-741a-4d8c-c6ee-f2db9f3f865c"
      },
      "source": [
        "def f(ham: str, eggs: str = 'eggs') -> str:\n",
        "    print(\"Annotations:\", f.__annotations__)\n",
        "    print(\"Arguments:\", ham, eggs)\n",
        "    return ham + ' and ' + eggs\n",
        "f('spam')"
      ],
      "execution_count": 0,
      "outputs": [
        {
          "output_type": "stream",
          "text": [
            "Annotations: {'ham': <class 'str'>, 'eggs': <class 'str'>, 'return': <class 'str'>}\n",
            "Arguments: spam eggs\n"
          ],
          "name": "stdout"
        },
        {
          "output_type": "execute_result",
          "data": {
            "text/plain": [
              "'spam and eggs'"
            ]
          },
          "metadata": {
            "tags": []
          },
          "execution_count": 126
        }
      ]
    },
    {
      "cell_type": "code",
      "metadata": {
        "id": "893FlIh0FoWh",
        "colab_type": "code",
        "colab": {}
      },
      "source": [
        ""
      ],
      "execution_count": 0,
      "outputs": []
    }
  ]
}